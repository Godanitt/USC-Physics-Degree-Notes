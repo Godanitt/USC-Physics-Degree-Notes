{
 "cells": [
  {
   "cell_type": "markdown",
   "metadata": {},
   "source": [
    "# **RELACIÓN CARGA-MASA DO ELECTRÓN**"
   ]
  },
  {
   "cell_type": "markdown",
   "metadata": {},
   "source": [
    "## **1. Unha práctica con historia**"
   ]
  },
  {
   "cell_type": "markdown",
   "metadata": {},
   "source": [
    "A práctica que imos realizar hoxe é unha adaptación moderna do histórico experimento levado a cabo por Joseph John Thomson en 1897. Con ela Thomson descubriu o electrón no laboratorio Cavendish da Universidade de Cambridge, Reino Unido. Determinou a relación entre a súa carga e masa, sendo deste xeito artifice da técnica experimental coñecida como **espectrometría de masas**. A día de hoxe, unha placa instalada no edificio do vello laboratorio Cavendish conmemora este feito.\n",
    "\n",
    "![alt text](imaxes_p5/Cavendish_Lab.jpg)\n",
    "\n",
    "En 1906 recibiría o premio Nobel de Física polos seus traballos sobre a condución da electricidade a través de gases, caracterizando os chamados **raios catódicos**, fluxo de partículas con carga eléctrica (electróns) [1]. Curiosamente sería o seu fillo George Paget Thomson quen recibiría o Nobel de Física en 1937 por demostra-las propiedades ondulatorias do electrón ao estuda-la súa difracción en cristais [2]. \n",
    "\n",
    "O experimento de J. J. Thomson é considerado un dos pioneiros en dar comezo á revolución cuántica. Será por tanto este experimento que veremos na seguinte sección o que vaia a pecha-las Técnicas de Electrodinámica Clásica. \n"
   ]
  },
  {
   "cell_type": "markdown",
   "metadata": {},
   "source": [
    "___\n",
    "**Notas desta sección**\n",
    "\n",
    "> [1] Thomson tamén é recoñecido por propoñer un modelo para a estrutura atómica. Pode que che soe o modelo atómico do *pudin de pasas*. Nel, os electróns son esferas con carga eléctrica negativa incrustados nun átomo esférico de carga positiva.\n",
    "\n",
    "> [2] Recibiu o Nobel xunto ao estadounidense Clinton Joseph Davisson, quen tamén contribuíu a determina-las propiedades ondulatorias do electrón mentres traballaba nos *Telephone Bell Laboratories*. \n",
    "___"
   ]
  },
  {
   "cell_type": "markdown",
   "metadata": {},
   "source": [
    "## **2. Experimento e tarefa a realizar**"
   ]
  },
  {
   "cell_type": "markdown",
   "metadata": {},
   "source": [
    "No seguinte vídeo vén explicado o experimento realizado por Thomson, co que determinarémo-la relación carga-masa do electrón. Máis abaixo tes o desenvolvemento teórico necesario para facelo.\n",
    "Ao visualiza.lo vídeo trata de fixarte nas seguintes cuestións:\n",
    "\n",
    "* Para que se quece o cátodo? \n",
    "\n",
    "* Por que podemos visualiza-lo feixe de electróns?\n",
    "\n",
    "* Que se emprega para xera-la traxectoria circular do feixe de electróns?\n",
    "\n",
    "\n",
    "[![IMAGE ALT TEXT HERE](http://img.youtube.com/vi/BxvTNZ5SiVo/0.jpg)](https://youtu.be/BxvTNZ5SiVo)\n",
    "\n",
    "Aquí tes un esquema do dispositivo experimental empregado nesta práctica:\n",
    "![alt text](imaxes_p5/esq_exp.png)\n",
    "\n",
    "Como viches no vídeo, e tes detallado na imaxe de arriba, comézase aplicando unha diferenza de potencial $V$ entre o cátodo e o ánodo. O cátodo é quentado (excitado termicamente) para que sexa máis doado arrincarlle electróns. A enerxía cinética que estes electróns adquiren é proporcional a $V$:\n",
    "\n",
    "$$\\frac{1}{2}mv^2=eV\\ (1)$$\n",
    "\n",
    "onde $m$ é a masa do electrón, $e$ a súa carga e $v$ a súa velocidade. A diferenza de potencial $V$ arrica o electrón (en realidade, un feixe deles) do cátodo e confirelle unha velocidade $v$. Debido a que a ampola está chea de Helio, unha fracción de electróns colisiona con estes átomos, excitandoos e deixando a traza da traxectoria seguida polos electróns. \n",
    "\n",
    "Como sabes, os electróns son partículas con carga eléctrica, polo que se aplicamos un campo magnético $B$ perpendicular á súa velocidade, estes electróns describirán unha traxectoria circular de raio $r$, sendo a forza de Lorentz igual á forza centrípeta:\n",
    "\n",
    "$$evB=\\frac{mv^2}{r}\\ (2)$$\n",
    "\n",
    "o xeito de xerar un campo magnético uniforme e perpendicular á velocidade do feixe de electróns é a través das bobinas Helmholtz. \n",
    "Estas xeran o seguinte campo magnético como función da corrente $I$ que circula por elas:\n",
    "\n",
    "$$B=\\frac{N\\mu_0I}{(5/4)^{3/2}a}\\ (3)$$\n",
    "\n",
    "onde $N=130$ é o número de espiras da bobina Helmholtz, $a=0.15$ m é o seu raio e $\\mu_0$ é a permeabilidade magnética no baleiro. \n",
    "\n",
    "O primeiro que terás que facer é obter unha expresión para a relación $e/m$ como función de $I$, $V$ e $r$ considerando as ecuacións anteriores (1-3).\n",
    "\n",
    "Despois terás que emprega-lo seguinte código de python para simula-lo experimento. Terás que introduci-lo valor para cada intensidade aplicada ás bobinas Helmholtz ($I$) en Amperios e a diferenza de potencial ($V$) coa que os electróns son acelerados en Voltios. O programa darache o diámetro que medirías na regra espello. Terás que cubri-la seguinte táboa:\n",
    "\n",
    "| $I$ (A)    | $V$ (V)  | $d$ (m) |\n",
    "| ----------- |:----------:|:---------:|\n",
    "| 0.5         |  100.0      |       |\n",
    "| 0.5         |  150.0      |       |\n",
    "| 0.5         |  200.0      |       |\n",
    "| 0.5         |  250.0      |       |\n",
    "| 1.0         |  100.0      |       |\n",
    "| 1.0         |  150.0      |       |\n",
    "| 1.0         |  200.0      |       |\n",
    "| 1.0         |  250.0      |       |\n",
    "| 1.5         |  100.0      |       |\n",
    "| 1.5         |  150.0      |       |\n",
    "| 1.5         |  200.0      |       |\n",
    "| 1.5         |  250.0      |       |\n",
    "| 2.0         |  100.0      |       |\n",
    "| 2.0         |  150.0      |       |\n",
    "| 2.0         |  200.0      |       |\n",
    "| 2.0         |  250.0      |       |\n",
    "\n",
    "Corre o seguinte código (shift+enter) tantas veces como precises ata ter completada a táboa [1]:"
   ]
  },
  {
   "cell_type": "code",
   "execution_count": 16,
   "metadata": {},
   "outputs": [
    {
     "name": "stdout",
     "output_type": "stream",
     "text": [
      "-> Escribe en A a Intensidade (I) que queiras introducir na fonte de alimentación das bobinas Helmholtz e pulsa ENTER:\n"
     ]
    },
    {
     "name": "stdin",
     "output_type": "stream",
     "text": [
      " 2\n"
     ]
    },
    {
     "name": "stdout",
     "output_type": "stream",
     "text": [
      "-> Escribe en V a Diferencia de Potencial (V) que queiras introducir para arrincar os electróns e pulsa ENTER:\n"
     ]
    },
    {
     "name": "stdin",
     "output_type": "stream",
     "text": [
      " 250\n"
     ]
    },
    {
     "name": "stdout",
     "output_type": "stream",
     "text": [
      " \n",
      " \n",
      "-> Traza que veriamos no experimento:\n",
      " \n"
     ]
    },
    {
     "data": {
      "image/png": "[encoded data removed]",
      "text/plain": [
       "<Figure size 360x360 with 1 Axes>"
      ]
     },
     "metadata": {},
     "output_type": "display_data"
    },
    {
     "name": "stdout",
     "output_type": "stream",
     "text": [
      " \n",
      "-> Resultado da medida:\n",
      " \n",
      "     Diámetro d da traza circular (m): 0.071\n",
      " \n",
      " \n"
     ]
    }
   ],
   "source": [
    "%run -i \"raicat.py\""
   ]
  },
  {
   "cell_type": "markdown",
   "metadata": {},
   "source": [
    "Agora, coa táboa completa, xa podes obter un valor para a relación $e/m$ para cada medida coa expresión que obtiveches. Poderás facer unha media entre tódolos resultados para determina-lo valor de $e/m$ de xeito máis preciso e con iso finalizar esta práctica.\n"
   ]
  },
  {
   "cell_type": "markdown",
   "metadata": {},
   "source": [
    "___\n",
    "**Notas desta sección**\n",
    "\n",
    "> [1] O código introduce un pequeno erro de xeito aleatorio en cada unha das medidas do diámetro. Recoméndoche anota-los datos nunha folla de cálculo que che permita analizalos posteriormente con maior facilidade.\n",
    "\n",
    "___"
   ]
  },
  {
   "cell_type": "markdown",
   "metadata": {},
   "source": [
    " ## **Por se quixeres cavilar máis** \n",
    "\n",
    "Noraboa por ter rematado a práctica. Esta foi moi curtiña. Se quedaches con ganas de pensar un pouco máis sobre os raios catódicos, bota unha ollada a esta sección.\n",
    "\n",
    "[![IMAGE ALT TEXT HERE](http://img.youtube.com/vi/-JetVzgKBb0/0.jpg)](https://www.youtube.com/watch?v=-JetVzgKBb0)\n",
    "\n",
    "No video musical anterior aparecen Chicho e Cibrán (Boyanka Kostova) xunto a Gatocán e Pemán vendo a tele tirados no sofá. Se te fixaches un pouco, verías que o televisor é un destes antigos, con máis fondo que ancho. A base do funcionamento deste tipo de pantallas de televisión, osciloscopios e monitores é o tubo de raios catódicos (CTR do inglés). Considerando o que vimos no experimento de Thomson, ¿como pensas que se forman as imaxes? Como se pasa dunha tele en branco e negro a unha en cor? Ocorre algo na imaxe se achegas un imán á pantalla? Presentan algún risco para a saúde estes vellos televisores?\n",
    "\n",
    "Podes escoitar máis temas de Boyanka Kostova como [Diego Tristán](https://www.youtube.com/watch?v=XPDxVtvkuLI) ou [Muinheira de Interior](https://www.youtube.com/watch?v=_CK0wFccakE)."
   ]
  },
  {
   "cell_type": "code",
   "execution_count": null,
   "metadata": {},
   "outputs": [],
   "source": []
  }
 ],
 "metadata": {
  "kernelspec": {
   "display_name": "Python 3",
   "language": "python",
   "name": "python3"
  },
  "language_info": {
   "codemirror_mode": {
    "name": "ipython",
    "version": 3
   },
   "file_extension": ".py",
   "mimetype": "text/x-python",
   "name": "python",
   "nbconvert_exporter": "python",
   "pygments_lexer": "ipython3",
   "version": "3.8.5"
  }
 },
 "nbformat": 4,
 "nbformat_minor": 4
}
