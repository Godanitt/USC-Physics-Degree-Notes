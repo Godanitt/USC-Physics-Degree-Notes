{
 "cells": [
  {
   "cell_type": "markdown",
   "metadata": {},
   "source": [
    "# Programa de Ajuste Lineal por Mínimos Cuadrados"
   ]
  },
  {
   "cell_type": "markdown",
   "metadata": {},
   "source": [
    "### Importamos los paquetes necesarios"
   ]
  },
  {
   "cell_type": "code",
   "execution_count": 15,
   "metadata": {
    "collapsed": true
   },
   "outputs": [],
   "source": [
    "import numpy as np\n",
    "from numpy.linalg import *\n",
    "import matplotlib.pyplot as plt\n",
    "%matplotlib inline\n",
    "from IPython.display import display, Latex\n",
    "import pandas as pd\n",
    "pd.set_option('precision', 2)"
   ]
  },
  {
   "cell_type": "markdown",
   "metadata": {},
   "source": [
    "La función de ajuste $y_i = a + b x_i$  pide tres listas de argumentos $\\{ x_i, y_i \\}$, y $\\sigma_i = \\sigma (y_i)$ donde  $i=1,...,n$ \n",
    "\n",
    "La minimización conduce al problema algebráico \n",
    "$$\\left( \\begin{array}{c} a \\\\ b \\end{array} \\right) = H^{-1} Z$$\n",
    "donde\n",
    "$$\n",
    "H = \\left( \\begin{array}{cc} \\sum_i \\frac{1}{\\sigma_i^{2}} & \\sum_i \\frac{x_i}{\\sigma_i^2} \\\\\n",
    "\\sum_i \\frac{x_i}{\\sigma_i^2} & \\sum_i \\frac{x^2_i}{\\sigma_i^2}\n",
    "\\end{array}\n",
    "\\right) ~~~; ~~~~  \n",
    "Z = \\frac{1}{\\Delta}\\left( \\begin{array}{c} \\sum_i\\frac{x_i^2}{\\sigma_i^2} \\\\  \n",
    " \\sum_i\\frac{1}{\\sigma_i^2} \\end{array}\n",
    "\\right)\n",
    "$$\n",
    "con $\\Delta= \\det H$.\n",
    "Además, las desviaciones estándar de $a$ y $b$ son \n",
    "$$\n",
    "\\sigma(a) =\\sqrt{ \\frac{1}{\\Delta} \\sum_i \\frac{x_i^2}{\\sigma_i^2}} ~~~; ~~~\n",
    "\\sigma(b) =\\sqrt{ \\frac{1}{\\Delta} \\sum_i \\frac{1}{\\sigma_i^2}}\\, .\n",
    "$$"
   ]
  },
  {
   "cell_type": "code",
   "execution_count": 16,
   "metadata": {
    "collapsed": true
   },
   "outputs": [],
   "source": [
    "def media(xlist):\n",
    "    return sum(xlist)/len(xlist)\n",
    "\n",
    "def sigma(xlist):\n",
    "    return np.sqrt(sum((xlist-media(xlist))**2)/(1.*len(xlist)*(len(xlist)-1.)))\n",
    "\n",
    "def sigmab(xlist):\n",
    "    return np.sqrt(sum((xlist-media(xlist))**2)/(1.*len(xlist)*(len(xlist)-1)))\n",
    "\n",
    "def utotal(ua,ub):\n",
    "    return np.sqrt(ua**2+ub**2)\n",
    "\n",
    "#ajuste lineal y=a+bx\n",
    "def ajustelinealponderado(x,y,sig):\n",
    "\n",
    "    H=np.array([[sum(1./sig**2),sum(x/sig**2)],[sum(x/sig**2),sum(x**2/sig**2)]])\n",
    "    Delta=det(H)\n",
    "    Z=np.array([sum(y/sig**2),sum((x*y)/sig**2)])\n",
    "    \n",
    "    ([a,b])=np.matmul(inv(H),Z)\n",
    "    \n",
    "    siga=np.sqrt(sum(x**2/sig**2)/Delta)\n",
    "    sigb=np.sqrt(sum(1./sig**2)/Delta)\n",
    "    \n",
    "    return a,b,siga,sigb\n"
   ]
  },
  {
   "cell_type": "markdown",
   "metadata": {
    "heading_collapsed": true
   },
   "source": [
    "### En esta celda introducimos nuestros datos $\\{ x_i, y_i \\}$, $i=1,...,n$"
   ]
  },
  {
   "cell_type": "markdown",
   "metadata": {
    "hidden": true
   },
   "source": [
    "esta celda hace uso de la función DataFrame de la librería Panda"
   ]
  },
  {
   "cell_type": "code",
   "execution_count": 17,
   "metadata": {
    "hidden": true,
    "scrolled": true
   },
   "outputs": [
    {
     "data": {
      "text/html": [
       "<div>\n",
       "<style>\n",
       "    .dataframe thead tr:only-child th {\n",
       "        text-align: right;\n",
       "    }\n",
       "\n",
       "    .dataframe thead th {\n",
       "        text-align: left;\n",
       "    }\n",
       "\n",
       "    .dataframe tbody tr th {\n",
       "        vertical-align: top;\n",
       "    }\n",
       "</style>\n",
       "<table border=\"1\" class=\"dataframe\">\n",
       "  <thead>\n",
       "    <tr style=\"text-align: right;\">\n",
       "      <th></th>\n",
       "      <th>x</th>\n",
       "      <th>y</th>\n",
       "    </tr>\n",
       "  </thead>\n",
       "  <tbody>\n",
       "    <tr>\n",
       "      <th>1</th>\n",
       "      <td>25.00</td>\n",
       "      <td>901.0</td>\n",
       "    </tr>\n",
       "    <tr>\n",
       "      <th>2</th>\n",
       "      <td>16.00</td>\n",
       "      <td>652.0</td>\n",
       "    </tr>\n",
       "    <tr>\n",
       "      <th>3</th>\n",
       "      <td>11.11</td>\n",
       "      <td>443.0</td>\n",
       "    </tr>\n",
       "    <tr>\n",
       "      <th>4</th>\n",
       "      <td>8.16</td>\n",
       "      <td>339.0</td>\n",
       "    </tr>\n",
       "    <tr>\n",
       "      <th>5</th>\n",
       "      <td>6.25</td>\n",
       "      <td>283.0</td>\n",
       "    </tr>\n",
       "    <tr>\n",
       "      <th>6</th>\n",
       "      <td>4.94</td>\n",
       "      <td>281.0</td>\n",
       "    </tr>\n",
       "    <tr>\n",
       "      <th>7</th>\n",
       "      <td>4.00</td>\n",
       "      <td>240.0</td>\n",
       "    </tr>\n",
       "    <tr>\n",
       "      <th>8</th>\n",
       "      <td>2.78</td>\n",
       "      <td>220.0</td>\n",
       "    </tr>\n",
       "    <tr>\n",
       "      <th>9</th>\n",
       "      <td>1.78</td>\n",
       "      <td>180.0</td>\n",
       "    </tr>\n",
       "    <tr>\n",
       "      <th>10</th>\n",
       "      <td>1.00</td>\n",
       "      <td>154.0</td>\n",
       "    </tr>\n",
       "  </tbody>\n",
       "</table>\n",
       "</div>"
      ],
      "text/plain": [
       "        x      y\n",
       "1   25.00  901.0\n",
       "2   16.00  652.0\n",
       "3   11.11  443.0\n",
       "4    8.16  339.0\n",
       "5    6.25  283.0\n",
       "6    4.94  281.0\n",
       "7    4.00  240.0\n",
       "8    2.78  220.0\n",
       "9    1.78  180.0\n",
       "10   1.00  154.0"
      ]
     },
     "metadata": {},
     "output_type": "display_data"
    }
   ],
   "source": [
    "x=np.array([ 25., 16., 11.1111, 8.16327, 6.25, 4.93827, 4., 2.77778, 1.77778, 1.  ])\n",
    "y=np.array([ 901., 652., 443., 339., 283., 281., 240., 220., 180., 154.  ])\n",
    "n=len(x)\n",
    "\n",
    "datos = pd.DataFrame({'x': x, 'y': y},index=np.arange(n)+1)\n",
    "display(datos)"
   ]
  },
  {
   "cell_type": "code",
   "execution_count": null,
   "metadata": {},
   "outputs": [],
   "source": []
  },
  {
   "cell_type": "markdown",
   "metadata": {
    "hidden": true
   },
   "source": [
    "otra manera de representarlos con LaTex"
   ]
  },
  {
   "cell_type": "code",
   "execution_count": 7,
   "metadata": {
    "hidden": true,
    "scrolled": true
   },
   "outputs": [
    {
     "data": {
      "text/latex": [
       "\\begin{array}{|r|r|} \\hline x & y \\\\ \\hline25.00 & 901.00 \\\\16.00 & 652.00 \\\\11.11 & 443.00 \\\\8.16 & 339.00 \\\\6.25 & 283.00 \\\\4.94 & 281.00 \\\\4.00 & 240.00 \\\\2.78 & 220.00 \\\\1.78 & 180.00 \\\\1.00 & 154.00 \\\\\\hline \\end{array}"
      ],
      "text/plain": [
       "<IPython.core.display.Latex object>"
      ]
     },
     "metadata": {},
     "output_type": "display_data"
    }
   ],
   "source": [
    "cadena  = '\\\\begin{array}{|r|r|} \\hline x & y \\\\\\\\ \\hline'\n",
    "for i in range(10):\n",
    "    cadena += '%3.2f & %3.2f \\\\\\\\' % (x[i],y[i])\n",
    "cadena += '\\hline \\end{array}'\n",
    "\n",
    "display(Latex(cadena))"
   ]
  },
  {
   "cell_type": "markdown",
   "metadata": {
    "hidden": true
   },
   "source": [
    "calculemos la media $\\bar y = \\frac{1}{n}(\\sum_{i=1}^n y_i)$, y la desviación estándar de la media poblacional, que es aproximada por el estimador   $u_A=\\sigma(\\bar y) = \\sqrt{\\frac{\\sum_{i=1}^n (y_i - \\bar y)^2}{n(n-1)}}$"
   ]
  },
  {
   "cell_type": "code",
   "execution_count": null,
   "metadata": {},
   "outputs": [],
   "source": []
  },
  {
   "cell_type": "code",
   "execution_count": 8,
   "metadata": {
    "hidden": true
   },
   "outputs": [
    {
     "data": {
      "text/latex": [
       "$ \\bar{y} =369 $"
      ],
      "text/plain": [
       "<IPython.core.display.Latex object>"
      ]
     },
     "metadata": {},
     "output_type": "display_data"
    }
   ],
   "source": [
    "ymed=media(y)\n",
    "display(Latex(r'$ \\bar{y} =%i $' % ymed))"
   ]
  },
  {
   "cell_type": "code",
   "execution_count": 9,
   "metadata": {
    "hidden": true
   },
   "outputs": [
    {
     "data": {
      "text/latex": [
       "$\\sigma(\\bar y)=74 $"
      ],
      "text/plain": [
       "<IPython.core.display.Latex object>"
      ]
     },
     "metadata": {},
     "output_type": "display_data"
    }
   ],
   "source": [
    "sigbar=sigmab(y)\n",
    "display(Latex(r'$\\sigma(\\bar y)=%i $' % sigbar))"
   ]
  },
  {
   "cell_type": "markdown",
   "metadata": {
    "hidden": true
   },
   "source": [
    "en caso de ser conocida, la desviación estándar de cada dato es  $\\sigma(y_i)$. En el ejemplo 3.18 del manual   $\\sigma(y_i) = \\sqrt{y_i}$ "
   ]
  },
  {
   "cell_type": "code",
   "execution_count": 10,
   "metadata": {
    "collapsed": true,
    "hidden": true
   },
   "outputs": [],
   "source": [
    "sigi=np.sqrt(y)"
   ]
  },
  {
   "cell_type": "markdown",
   "metadata": {
    "hidden": true
   },
   "source": [
    "escogemos cuál de las dos es la que vamos a usar en el ajuste sigma = sigbar o sigma = sigi"
   ]
  },
  {
   "cell_type": "code",
   "execution_count": 11,
   "metadata": {
    "collapsed": true,
    "hidden": true
   },
   "outputs": [],
   "source": [
    "uy=sigi"
   ]
  },
  {
   "cell_type": "code",
   "execution_count": 12,
   "metadata": {
    "hidden": true
   },
   "outputs": [
    {
     "data": {
      "text/html": [
       "<div>\n",
       "<style>\n",
       "    .dataframe thead tr:only-child th {\n",
       "        text-align: right;\n",
       "    }\n",
       "\n",
       "    .dataframe thead th {\n",
       "        text-align: left;\n",
       "    }\n",
       "\n",
       "    .dataframe tbody tr th {\n",
       "        vertical-align: top;\n",
       "    }\n",
       "</style>\n",
       "<table border=\"1\" class=\"dataframe\">\n",
       "  <thead>\n",
       "    <tr style=\"text-align: right;\">\n",
       "      <th></th>\n",
       "      <th>sig</th>\n",
       "      <th>x</th>\n",
       "      <th>y</th>\n",
       "    </tr>\n",
       "  </thead>\n",
       "  <tbody>\n",
       "    <tr>\n",
       "      <th>1</th>\n",
       "      <td>30.02</td>\n",
       "      <td>25.00</td>\n",
       "      <td>901.0</td>\n",
       "    </tr>\n",
       "    <tr>\n",
       "      <th>2</th>\n",
       "      <td>25.53</td>\n",
       "      <td>16.00</td>\n",
       "      <td>652.0</td>\n",
       "    </tr>\n",
       "    <tr>\n",
       "      <th>3</th>\n",
       "      <td>21.05</td>\n",
       "      <td>11.11</td>\n",
       "      <td>443.0</td>\n",
       "    </tr>\n",
       "    <tr>\n",
       "      <th>4</th>\n",
       "      <td>18.41</td>\n",
       "      <td>8.16</td>\n",
       "      <td>339.0</td>\n",
       "    </tr>\n",
       "    <tr>\n",
       "      <th>5</th>\n",
       "      <td>16.82</td>\n",
       "      <td>6.25</td>\n",
       "      <td>283.0</td>\n",
       "    </tr>\n",
       "    <tr>\n",
       "      <th>6</th>\n",
       "      <td>16.76</td>\n",
       "      <td>4.94</td>\n",
       "      <td>281.0</td>\n",
       "    </tr>\n",
       "    <tr>\n",
       "      <th>7</th>\n",
       "      <td>15.49</td>\n",
       "      <td>4.00</td>\n",
       "      <td>240.0</td>\n",
       "    </tr>\n",
       "    <tr>\n",
       "      <th>8</th>\n",
       "      <td>14.83</td>\n",
       "      <td>2.78</td>\n",
       "      <td>220.0</td>\n",
       "    </tr>\n",
       "    <tr>\n",
       "      <th>9</th>\n",
       "      <td>13.42</td>\n",
       "      <td>1.78</td>\n",
       "      <td>180.0</td>\n",
       "    </tr>\n",
       "    <tr>\n",
       "      <th>10</th>\n",
       "      <td>12.41</td>\n",
       "      <td>1.00</td>\n",
       "      <td>154.0</td>\n",
       "    </tr>\n",
       "  </tbody>\n",
       "</table>\n",
       "</div>"
      ],
      "text/plain": [
       "      sig      x      y\n",
       "1   30.02  25.00  901.0\n",
       "2   25.53  16.00  652.0\n",
       "3   21.05  11.11  443.0\n",
       "4   18.41   8.16  339.0\n",
       "5   16.82   6.25  283.0\n",
       "6   16.76   4.94  281.0\n",
       "7   15.49   4.00  240.0\n",
       "8   14.83   2.78  220.0\n",
       "9   13.42   1.78  180.0\n",
       "10  12.41   1.00  154.0"
      ]
     },
     "metadata": {},
     "output_type": "display_data"
    }
   ],
   "source": [
    "datossig = pd.DataFrame({'x': x,'y': y ,'sig': uy},index=np.arange(n)+1)\n",
    "display(datossig)"
   ]
  },
  {
   "cell_type": "markdown",
   "metadata": {
    "heading_collapsed": true
   },
   "source": [
    "### Llamamos a la funcion de ajuste"
   ]
  },
  {
   "cell_type": "code",
   "execution_count": 13,
   "metadata": {
    "hidden": true
   },
   "outputs": [
    {
     "data": {
      "text/latex": [
       "$a$=119.50 , $\\sigma_{a}$=7.57"
      ],
      "text/plain": [
       "<IPython.core.display.Latex object>"
      ]
     },
     "metadata": {},
     "output_type": "display_data"
    },
    {
     "data": {
      "text/latex": [
       "$b$=30.70 , $\\sigma_{b}$=1.03"
      ],
      "text/plain": [
       "<IPython.core.display.Latex object>"
      ]
     },
     "metadata": {},
     "output_type": "display_data"
    }
   ],
   "source": [
    "a,b,siga,sigb = ajustelinealponderado(x,y,uy)\n",
    "\n",
    "display(Latex('$a$=%3.2f , $\\sigma_{a}$=%3.2f' % (a,siga) ))\n",
    "display(Latex('$b$=%3.2f , $\\sigma_{b}$=%3.2f' % (b,sigb) ))\n",
    "\n"
   ]
  },
  {
   "cell_type": "markdown",
   "metadata": {
    "heading_collapsed": true
   },
   "source": [
    "### Graficamos los datos y la curva obtenida"
   ]
  },
  {
   "cell_type": "code",
   "execution_count": 14,
   "metadata": {
    "hidden": true
   },
   "outputs": [
    {
     "data": {
      "image/png": "[encoded data removed]",
      "text/plain": [
       "<matplotlib.figure.Figure at 0x110911b50>"
      ]
     },
     "metadata": {},
     "output_type": "display_data"
    }
   ],
   "source": [
    "Y= a + b*x\n",
    "\n",
    "plt.figure(figsize=(7,6))\n",
    "plt.plot(x,y, '.')\n",
    "plt.plot(x,Y)\n",
    "plt.grid()\n",
    "plt.show()"
   ]
  },
  {
   "cell_type": "markdown",
   "metadata": {
    "hidden": true
   },
   "source": [
    "también podemos graficar con las barras de error"
   ]
  },
  {
   "cell_type": "code",
   "execution_count": 15,
   "metadata": {
    "hidden": true
   },
   "outputs": [
    {
     "data": {
      "image/png": "[encoded data removed]",
      "text/plain": [
       "<matplotlib.figure.Figure at 0x110351950>"
      ]
     },
     "metadata": {},
     "output_type": "display_data"
    }
   ],
   "source": [
    "plt.figure(figsize=(7,6))\n",
    "plt.errorbar(x, y, fmt= '.', yerr=uy)\n",
    "plt.plot(x,Y)\n",
    "\n",
    "plt.show()"
   ]
  },
  {
   "cell_type": "code",
   "execution_count": null,
   "metadata": {
    "collapsed": true,
    "hidden": true
   },
   "outputs": [],
   "source": []
  }
 ],
 "metadata": {
  "anaconda-cloud": {},
  "kernelspec": {
   "display_name": "Python 2",
   "language": "python",
   "name": "python2"
  },
  "language_info": {
   "codemirror_mode": {
    "name": "ipython",
    "version": 2
   },
   "file_extension": ".py",
   "mimetype": "text/x-python",
   "name": "python",
   "nbconvert_exporter": "python",
   "pygments_lexer": "ipython2",
   "version": "2.7.14"
  },
  "varInspector": {
   "cols": {
    "lenName": 16,
    "lenType": 16,
    "lenVar": 40
   },
   "kernels_config": {
    "python": {
     "delete_cmd_postfix": "",
     "delete_cmd_prefix": "del ",
     "library": "var_list.py",
     "varRefreshCmd": "print(var_dic_list())"
    },
    "r": {
     "delete_cmd_postfix": ") ",
     "delete_cmd_prefix": "rm(",
     "library": "var_list.r",
     "varRefreshCmd": "cat(var_dic_list()) "
    }
   },
   "types_to_exclude": [
    "module",
    "function",
    "builtin_function_or_method",
    "instance",
    "_Feature"
   ],
   "window_display": false
  }
 },
 "nbformat": 4,
 "nbformat_minor": 1
}
