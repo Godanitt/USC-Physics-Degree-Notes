{
 "cells": [
  {
   "cell_type": "markdown",
   "metadata": {},
   "source": [
    "# **PROPAGACIÓN DO CAMPO ELECTROMAGNÉTICO NUN CONDUTOR**"
   ]
  },
  {
   "cell_type": "markdown",
   "metadata": {},
   "source": [
    "## **1. Un pouco de teoría**"
   ]
  },
  {
   "cell_type": "markdown",
   "metadata": {},
   "source": [
    "Nesta práctica estudaremos como se propaga o campo electromagnético a través dun condutor. Ao contrario do que viñemos considerando nas prácticas anteriores nas que a onda electromagnética era completamente reflectida polo condutor ao chegar a el, observaremos que non sempre ocorre así. Para condutores reais, caracterizados por teren unha condutividade ($\\sigma$) finita, atoparemos un determinado réxime no que o campo electromágnetico é capaz de atravesar o condutor. Veremos de que xeito o fai e que lle ocorre aos campos eléctrico ($\\bf{E}$) e magnético ($\\bf{B}$), dependentes do espazo ($\\bf{x}$) e do tempo ($t$)."
   ]
  },
  {
   "cell_type": "markdown",
   "metadata": {},
   "source": [
    "Antes de poñernos co experimento, cómpre pensar un pouco que é o que nos di a teoría respecto da propagación en condutores. Se nos preguntamos como resumi-la teoría do electromagnetismo, a resposta é coas 4 **ecuacións de Maxwell**:"
   ]
  },
  {
   "cell_type": "markdown",
   "metadata": {},
   "source": [
    "$$\\nabla \\bf{E}=\\frac{\\rho}{\\epsilon} $$\n",
    "$$\\nabla \\bf{B}=0 $$\n",
    "$$\\nabla \\times \\bf{E}=-\\frac{\\partial \\bf{B}}{\\partial t} $$\n",
    "$$\\nabla \\times \\bf{B}=\\mu \\bf{J}+ \\mu \\epsilon \\frac{\\partial \\bf{E}}{\\partial t}  $$"
   ]
  },
  {
   "cell_type": "markdown",
   "metadata": {},
   "source": [
    "onde $\\epsilon$ e $\\mu$ son as constantes dieléctrica e magnética respectivamente, $\\rho$ a densidade de carga libre e $\\bf{J}$ a de corrente, son as chamadas fontes dos campos $\\bf{E}$ e $\\bf{B}$.\n",
    "\n",
    "Nestas ecuacións notamos que aparecen acoplados os campos $\\bf{E}$ e $\\bf{B}$.\n",
    "\n",
    "Vexamos agora como se aplican en distintos casos: \n",
    "\n",
    "* **Baleiro**\n",
    "\n",
    "No baleiro non temos cargas libres nin correntes, $\\rho= 0$ e $\\bf{J}=0$. Introducindo isto nas ecuacións de Maxwell, multiplicándoas polo rotacional $\\nabla \\times$ e aplicando certas identidades vectoriais, chegariamos ás seguintes ecuacións que desacoplan os campos $\\bf{E}$ e $\\bf{B}$:"
   ]
  },
  {
   "cell_type": "markdown",
   "metadata": {},
   "source": [
    "$$\\nabla^2 \\bf{E}- \\mu \\epsilon \\frac{\\partial^2 \\bf{E}}{\\partial t^2}=0 $$\n",
    "$$\\nabla^2 \\bf{B}- \\mu \\epsilon \\frac{\\partial^2 \\bf{B}}{\\partial t^2}=0 $$"
   ]
  },
  {
   "cell_type": "markdown",
   "metadata": {},
   "source": [
    "Abofé que xa recoñecéche-la forma que teñen estas ecuacións. Efectivamente, trátase de ecuacións de ondas (fíxate nas derivadas segundas con respecto ao espazo e ao tempo). Se particularizamos para o caso unidimensional, por exemplo na dirección x, a solución para o campo eléctrico é a dunha onda plana, cuxa parte real é:\n",
    "\n",
    "$$E(x,t)=E_0cos(kx-\\omega t),$$\n",
    "\n",
    "onde $E_0$ é a amplitude do campo, $k$ o vector de onda e $\\omega$ a súa frecuencia angular. Debuxemos esta función para ver como se propaga o campo eléctrico no baleiro: \n",
    "![alt text](imaxes_p4/cos_bal.png)"
   ]
  },
  {
   "cell_type": "markdown",
   "metadata": {},
   "source": [
    "vemos que no baleiro o campo electromagnético propágase de forma sinusoidal e con amplitude constante no espazo."
   ]
  },
  {
   "cell_type": "markdown",
   "metadata": {},
   "source": [
    "* **Condutor**\n",
    "\n",
    "Nun bo condutor podemos considerar que non temos cargas libres acumuladas, así que $\\rho= 0$. Porén, si que vai existir unha densidade de corrente libre. Sabemos que segundo a lei de Ohm esta será $\\bf{J}=\\sigma \\bf{E}$ [1]. Así que, se introducimos isto nas ecuacións de Maxwell, multiplicamos polo rotacional $\\nabla \\times$ e aplicamos outra vez as identidades vectoriais, chegariamos ás seguintes ecuacións que desacoplan os campos $\\bf{E}$ e $\\bf{B}$:"
   ]
  },
  {
   "cell_type": "markdown",
   "metadata": {},
   "source": [
    "$$\\nabla^2 \\bf{E}- \\mu \\epsilon \\frac{\\partial^2 \\bf{E}}{\\partial t^2}-\\mu \\sigma \\frac{\\partial \\bf{E}}{\\partial t}=0 $$\n",
    "$$\\nabla^2 \\bf{B}- \\mu \\epsilon \\frac{\\partial^2 \\bf{B}}{\\partial t^2}-\\mu \\sigma \\frac{\\partial \\bf{B}}{\\partial t}=0 $$"
   ]
  },
  {
   "cell_type": "markdown",
   "metadata": {},
   "source": [
    "vemos que estas ecuacións difiren das do baleiro só no termo da derivada primeira temporal. Recordando un pouco de materias como Mecánica I ou Métodos Matemáticos IV-V, identificaremos estas ecuacións como de ondas amortecidas. Novamente, particularizando na dirección x, a solución é a dunha onda plana amortecida, con parte real:\n",
    "\n",
    "$$E(x,t)=E_0cos(kx-\\omega t+\\beta x)e^{-\\beta x},$$\n",
    "\n",
    "onde o novo parámetro $\\beta=\\sqrt{\\frac{\\omega \\mu \\sigma}{2}}$ é o coeficiente de atenuación [2]. Debuxemos $E(x,t)$ para ver como se propaga o campo eléctrico no condutor: \n",
    "![alt text](imaxes_p4/cos_cond.png)"
   ]
  },
  {
   "cell_type": "markdown",
   "metadata": {},
   "source": [
    "Vemos que, ao chegar ao condutor, o campo eléctrico comeza a atenuarse debido á exponencial negativa $e^{-\\beta x}$ que multiplica ao coseno (o coseno está modulado pola exponencial). A maiores, se nos fixamos na expresión que obtivemos para o campo $E$ no condutor observamos que dentro do coseno aparece un termo $\\beta x$ que engade unha fase ao campo. Polo que o condutor, á parte de atenuar, introduce un desfase entre os campos \n",
    "antes e despois de atravesalo. Todo iso en función da frecuencia do campo!\n",
    "\n",
    "As solucións no baleiro e dentro do condutor que vimos para o campo eléctrico son análogas para o campo magnético. Na seguinte sección explicaremos o experimento que imos realizar para comproba-la teoría que vimos de desenvolver."
   ]
  },
  {
   "cell_type": "markdown",
   "metadata": {},
   "source": [
    "___\n",
    "**Notas desta sección**\n",
    "\n",
    "> [1] Aquí simplemente expuxemos un pouco a teoría e relacións que precisamos para poder face-la práctica. Podedes atopar unha discusión máis detallada sobre a propagación do campo electromagnético en condutores no capitulo 9 (sección 9.4) do libro *Introduction to Electrodynamics* de David J. Griffiths. \n",
    "\n",
    "> [2] Nota a dependencia de $\\beta$ coa frecuencia angular $\\omega$.\n",
    "___"
   ]
  },
  {
   "cell_type": "markdown",
   "metadata": {},
   "source": [
    "## **2. Experimento e tarefa a realizar**"
   ]
  },
  {
   "cell_type": "markdown",
   "metadata": {},
   "source": [
    "No seguinte vídeo vén explicado o experimento que nos axudará a ver como se propaga o campo electromagnético dentro dun condutor. \n",
    "Ao visualizalo trata de fixarte nas seguintes cuestións:\n",
    "\n",
    "* Que instrumentos se empregan para xera-lo campo electromagnético? \n",
    "\n",
    "* Cal é a dirección de propagación do campo electromagnético xerado?\n",
    "\n",
    "* Que se utiliza para medi-lo campo eléctrico antes e depois do condutor?\n",
    "\n",
    "* O que medimos no osciloscopio é directamente o campo eléctrico ou é outra cousa?\n",
    "\n",
    "* Por que imos facer un varrido coa frecuencia do campo electromagnético?\n",
    "\n",
    "[![IMAGE ALT TEXT HERE](http://img.youtube.com/vi/PhSxptpFu8k/0.jpg)](https://youtu.be/PhSxptpFu8k)\n",
    "\n",
    "Aquí tes un esquema dos dispositivos experimentais utilizados nesta práctica:\n",
    "![alt text](imaxes_p4/esq_exp.png)\n",
    "\n",
    "Algúns dos datos que precisas para completa-la práctica son: $R_1=10.0$ mm, $R_2=7.5$ mm, $N_1=100$ espiras e $N_2=200$ espiras. Grosor do cilindro condutor $d=1.0$ mm.\n",
    "A forza electromotriz inducida $V$ nos solenoides de medida vén dada pola seguinte ecuación:\n",
    "$$V=2\\pi r N E$$\n",
    "onde $r$ é o raio do solenoide correspondente, $N$ o seu número de espiras e $E$ o campo eléctrico que induce a forza electromotriz nel e que será o que queremos medir de forma indirecta. \n",
    "\n",
    "O seguinte programa en python simula o experimento. Terás que introduci-lo valor para cada frecuencia ($f$) [1]. O programa darache a forza electromotriz inducida fóra ($V_1$) e dentro ($V_2$) do condutor. Tamén che dará o desfase entre eles ($\\phi$). A idea é facer un varrido en frecuencia e completa-la seguinte táboa:\n",
    "\n",
    "| $f$ (Hz)    | $V_1$ (V)  | $V_2$ (V) | $\\phi$ ($\\circ$)|\n",
    "| ----------- |:----------:|:---------:|:-------------:|\n",
    "| 100         |        |       |       |\n",
    "| 150         |        |       |       |\n",
    "| 200         |        |       |       |\n",
    "| 300         |        |       |       |\n",
    "| 500         |        |       |       |\n",
    "| 700         |        |       |       |\n",
    "| 1000        |        |       |       |\n",
    "| 1500        |        |       |       |\n",
    "| 2000        |        |       |       |\n",
    "| 3000        |        |       |       |\n",
    "| 5000        |        |       |       |\n",
    "|   7000      |        |       |       |\n",
    "|  10000      |        |       |       |\n",
    "|  15000      |        |       |       |\n",
    "|  20000      |        |       |       |\n",
    "|  30000      |        |       |       |\n",
    "|  50000      |        |       |       |\n",
    "|  70000      |        |       |       |\n",
    "| 100000      |        |       |       |\n",
    "\n",
    "Corre o seguinte código (shift+enter) tantas veces como precises ata ter completada a táboa [2]:"
   ]
  },
  {
   "cell_type": "code",
   "execution_count": null,
   "metadata": {},
   "outputs": [
    {
     "name": "stdout",
     "output_type": "stream",
     "text": [
      "-> Escribe en Hz a frecuencia (f) que queiras introducir no xerador de sinal e pulsa ENTER:\n"
     ]
    }
   ],
   "source": [
    "%run -i \"oscil_1.py\""
   ]
  },
  {
   "cell_type": "markdown",
   "metadata": {},
   "source": [
    "Agora, coa táboa completa, xa podes realiza-las seguintes análises:\n",
    "\n",
    "* Dos datos que obtiveches poderás obte-lo campo eléctrico fóra ($E_1$) e dentro ($E_2$) do condutor. Terás que realizar unha gráfica na que pintes o cociente $E_2/E_1$ como función da frecuencia ($f$) [3,4]. Que interpretas do resultado? Poderiamos dicir que o condutor actúa como un filtro? De que tipo?\n",
    "\n",
    "* Outra das medidas que obtiveches é o desfase $\\phi$ entre os campos dentro e fóra. Sabendo que $\\phi=\\beta d$ e que o condutor non é magnético (isto é, $\\mu=\\mu_0$), obtén a condutividade ($\\sigma$) do cilindro. \n",
    "\n",
    "Moi ben, xa temos unha idea do que lle ocorre a unha onda electromagnética nun condutor como función da súa frecuencia, olla o seguinte vídeo e trata de responder á cuestión que nel se formula.\n",
    "\n",
    "[![IMAGE ALT TEXT HERE](http://img.youtube.com/vi/EYFhZhnxDNY/0.jpg)](https://youtu.be/EYFhZhnxDNY)\n",
    "\n",
    "No vídeo o xerador de corrente envía un sinal triangular ao solenoide que crea o campo electromgnético. Despois mídese o sinal dentro do cilindro condutor. Observamos que, se a frecuencia do sinal é baixa dentro do condutor, medimos un sinal triangular; pola contra, se a frecuencia é alta, ao atravesar o condutor o que obtemos é un sinal sinusoidal. Explica por que ocorre isto.\n"
   ]
  },
  {
   "cell_type": "markdown",
   "metadata": {},
   "source": [
    "___\n",
    "**Notas desta sección**\n",
    "\n",
    "> [1] Non confundir $f$ con $\\omega$.\n",
    "\n",
    "> [2]  Recoméndoche anota-os datos nunha folla de cálculo que che permita analizalos posteriormente con maior facilidade. O código introduce un pequeno erro de xeito aleatorio en cada unha das medidas. Polo que cada vez que realices unha medida a unha mesma frecuencia esta non será completamente igual. Se che interesa, recorda que podes abrir o código e fozar nel! \n",
    "\n",
    "> [3] Podes pinta-lo eixo x da frecuencia en escala logarítmica.\n",
    "\n",
    "> [4] A relación entre os campos dentro e fóra do cilindro non vén determinada pola onda plana atenuada que vimos na primeira sección. Debido á simetria cilíndrica, a relación entre os campos é algo máis complexa e vén dada pola seguinte ecuación:\n",
    "$$E_2=\\frac{E_1}{cosh(\\beta d)cos(\\beta d)+i senh(\\beta d)sen(\\beta d)}$$\n",
    "\n",
    "___"
   ]
  },
  {
   "cell_type": "markdown",
   "metadata": {},
   "source": [
    " ## **Por se quixeres cavilar máis** \n",
    "\n",
    "Noraboa por ter rematado a práctica de hoxe. Se aínda segues aquí é porque quedaches con gana de pensar un pouco máis sobre o que estivemos a ver.\n",
    "\n",
    "No seguinte video musical aparece Miguel Mosqueira, guitarra e unha das voces das Ataque Escampe. Podes velo co móbil na man saíndo do metro na estación de Chambers Street, New York. \n",
    "Hoxe en día, a maioría das grandes cidades que teñen metro permiten ir conectados ao whatsapp, instagram ou google maps para non perdernos e saber en que parada baixar. Este tipo de telecomunicacións funcionan con frecuencias da orde de GHz. Pero... segundo o que acabamos de ver na nosa práctica... ¿é entón posible comunicarse no metro cun móbil? Terase que implementar algún sistema para que a comunicación sexa posible?\n",
    "\n",
    "[![IMAGE ALT TEXT HERE](http://img.youtube.com/vi/wDu9W01DHuo/0.jpg)](https://www.youtube.com/watch?v=wDu9W01DHuo)\n",
    "\n",
    "PD: [Aquí](https://ataqueescampe.bandcamp.com/) podes explorar máis temas de Ataque Escampe en álbums como *Violentos anos dez* ou *Noites de Agosto* entre outros."
   ]
  },
  {
   "cell_type": "code",
   "execution_count": null,
   "metadata": {},
   "outputs": [],
   "source": []
  },
  {
   "cell_type": "code",
   "execution_count": null,
   "metadata": {},
   "outputs": [],
   "source": []
  },
  {
   "cell_type": "code",
   "execution_count": null,
   "metadata": {},
   "outputs": [],
   "source": []
  },
  {
   "cell_type": "code",
   "execution_count": null,
   "metadata": {},
   "outputs": [],
   "source": []
  },
  {
   "cell_type": "code",
   "execution_count": null,
   "metadata": {
    "jupyter": {
     "source_hidden": true
    }
   },
   "outputs": [],
   "source": []
  },
  {
   "cell_type": "code",
   "execution_count": null,
   "metadata": {},
   "outputs": [],
   "source": []
  }
 ],
 "metadata": {
  "kernelspec": {
   "display_name": "Python 3",
   "language": "python",
   "name": "python3"
  },
  "language_info": {
   "codemirror_mode": {
    "name": "ipython",
    "version": 3
   },
   "file_extension": ".py",
   "mimetype": "text/x-python",
   "name": "python",
   "nbconvert_exporter": "python",
   "pygments_lexer": "ipython3",
   "version": "3.8.5"
  }
 },
 "nbformat": 4,
 "nbformat_minor": 4
}
