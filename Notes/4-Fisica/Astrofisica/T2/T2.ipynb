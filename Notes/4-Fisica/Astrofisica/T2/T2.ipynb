{
 "cells": [
  {
   "cell_type": "markdown",
   "id": "55a9bc1d",
   "metadata": {},
   "source": [
    "# Trabajo 2: Universo esférico dominado por materia"
   ]
  },
  {
   "cell_type": "markdown",
   "id": "16d3b5f3",
   "metadata": {},
   "source": [
    "Considera un universo dominado por la materia y con curvatura $k=+1$."
   ]
  },
  {
   "cell_type": "markdown",
   "id": "902e2f6b",
   "metadata": {},
   "source": [
    "### 1. Escribe la ecuación de Friedmann para la velocidad $\\dot{a}$ en este universo\n"
   ]
  },
  {
   "cell_type": "markdown",
   "id": "2cce0a69",
   "metadata": {},
   "source": [
    "La ecuación de Friedmann para la velocidad es: \n",
    "\n",
    "$$ \\dot{a}^2 = \\frac{8 \\pi G}{3c^2} \\epsilon a^2 - k c^2 $$\n",
    "$$ \\frac{\\ddot{a}}{a} = - \\frac{4\\pi G}{3 c^2} (\\epsilon+ 3 P) $$\n",
    "En un universo dominado por materia tenemos que $\\epsilon= \\epsilon_0 \\frac{a_0^3}{a^3}$ y $P=0$. Por otro lado, para un universo esférico $k=1$, tenemos que: "
   ]
  },
  {
   "cell_type": "markdown",
   "id": "91e48f42",
   "metadata": {},
   "source": [
    "### 2. Expresa la ecuación anterior llamando $x=a/a_0$. Integra en $x$ y $t$ para encontrar $t(x)$ aplicando las condiciones iniciales adecuadas. "
   ]
  },
  {
   "cell_type": "markdown",
   "id": "f29f5512",
   "metadata": {},
   "source": [
    "A"
   ]
  }
 ],
 "metadata": {
  "language_info": {
   "name": "python"
  }
 },
 "nbformat": 4,
 "nbformat_minor": 5
}
