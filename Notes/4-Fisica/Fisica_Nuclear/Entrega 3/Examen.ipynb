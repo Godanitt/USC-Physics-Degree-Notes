{
 "cells": [
  {
   "cell_type": "markdown",
   "metadata": {},
   "source": [
    "# Examen Fiscia Nuclear"
   ]
  },
  {
   "cell_type": "markdown",
   "metadata": {},
   "source": [
    "## Ejercicio 1"
   ]
  },
  {
   "cell_type": "markdown",
   "metadata": {},
   "source": [
    "En colisiones entre un haz de 238U a 6 AMeV y un blanco de 12C"
   ]
  },
  {
   "cell_type": "markdown",
   "metadata": {},
   "source": [
    "### Apartado a) "
   ]
  },
  {
   "cell_type": "markdown",
   "metadata": {},
   "source": [
    "Nos piden la *energia de excitación del núcleo compuesto*. El cálculo es sencillo si asumimos que la interacción es clásica. La reacción que forma el núcleo compuesto es\n",
    "\n",
    "$$ ^{238} U + ^{12} C \\to ^{250} \\text{Cf}^* $$\n",
    "siendo la energía de excitación la suma de los valores de la $Q$ de reacción y la diferencia entre la energía cinética del uranio y del californio. La $Q$ de reacción:\n",
    "\n",
    "$$ Q_{gs} =  M(^{238} U) + M(^{12} C) - M(^{250} \\text{Cf}) = \\Delta (^{238} U) +  \\Delta(^{12} C) -  \\Delta(^{250} \\text{Cf}) $$\n",
    "$$ Q_{gs} = 47.3077 - 71.1703 = -23.8626   \\ \\text{MeV}  \\qquad T = 6 * 238 = 1428  \\ \\text{MeV} $$\n",
    "Mientras que la diferencia de energía cinética tendrá que calcularse a través de la conservación del momento lineal: \n",
    "\n",
    "$$ p_{U} = p_{Cf} $$\n",
    "que nos lleva a \n",
    "\n",
    "$$ p_{U} = \\sqrt{2 M(^{238} U) T_{U}} \\qquad p_{Cf} = \\sqrt{2 M(^{250} Cf) T_{Cf}}  $$\n",
    "tenemos que, la relación de las energías:\n",
    "\n",
    "$$ T_{Cf} = \\frac{M(^{238} U)}{M(^{250} \\text{Cf})} T_{U} = 1359.456 \\ \\text{MeV} $$\n",
    "\n",
    "En este cálculo no hemos tenido en cuenta que en realidad $M(^{250}Cf)$ no la conocemos, al ser la suma de la masa del estado fundamental y la excitación. Sin embargo esta al ser muy pequeña frente la suma de la fundamental, entonces podemos ignorarla para un primer cálculo, ya que esta energía de excitación es precisamente lo que queremos obtener. Así pues, tenemos que:\n",
    "\n",
    "$$ E^* = Q_{gs} + (T_U - T_{Cf}) =  44.6814 \\ \\text{MeV}  $$\n",
    "Ahora con este valor podríamos recalcular la enegía cinética del californio, y mediante un proceso interativo obtener un resultado mas preciso según estos cálculos, aunque no cambiará mucho. La pregunta ahora que nos hacemos es, ¿Obtendremos el mismo resultado en el sistema centro de masas? Usando las transformaciones clásicas obtenemos:\n",
    "\n",
    "$$ T_{cm} = T_{lab} \\frac{m_C}{m_U + m_C} = 68.53 \\ \\text{MeV} $$\n",
    "(ec. 3.153 Apuntes Juan Saborido Fisica Nuclear y Partículas) tal que \n",
    "\n",
    "$$ Q_{gs} =44.667 \\text{MeV} $$\n",
    "con prácticamente el mismo resultado."
   ]
  },
  {
   "cell_type": "code",
   "execution_count": 166,
   "metadata": {},
   "outputs": [
    {
     "name": "stdout",
     "output_type": "stream",
     "text": [
      "-23.8626\n",
      "1428\n",
      "1359.456\n",
      "Eex= 44.68140000000017\n",
      "Tcm= 68.53007827839522\n",
      "Eex= 44.66747827839522\n"
     ]
    }
   ],
   "source": [
    "DeltaU238=47.3077\n",
    "DeltaCf250=71.1703\n",
    "DeltaC12=0\n",
    "\n",
    "Q = DeltaU238 - DeltaCf250\n",
    "TU238 = 6 * 238\n",
    "u= 931.4941\n",
    "TCf250 = (238/250)*TU238\n",
    "print(Q)\n",
    "print(TU238)\n",
    "print(TCf250)\n",
    "print(\"Eex=\",Q+TU238-TCf250)\n",
    "\n",
    "MU238 = DeltaU238 + 238 * u\n",
    "Ex=Q+TU238-TCf250\n",
    "MCf250 = DeltaCf250 + 250 * u + Ex\n",
    "\n",
    "\n",
    "MC12 = DeltaC12 + 12 * u\n",
    "MU238 = DeltaU238 + 238 * u\n",
    "Tcm=TU238*(MC12/(MC12+MU238))\n",
    "print(\"Tcm=\",Tcm)\n",
    "print(\"Eex=\",Q+Tcm)"
   ]
  },
  {
   "cell_type": "markdown",
   "metadata": {},
   "source": [
    "### Apartado b)"
   ]
  },
  {
   "cell_type": "markdown",
   "metadata": {},
   "source": [
    "Nos piden el **momento angular medio**. Para calcular el momento angular medio podemos usar la información y ecuaciones de las trasparencias y Bass (Phys. Lett. B 47, 139 (1973)). Supongamos el siguiente potencial de interacción entre los dos núcleos:\n",
    "\n",
    "$$ V_l(r) = k_C \\frac{Z_1Z_2e^2}{r} + \\frac{\\hbar^2 l^2}{2\\mu r^2 }- a_S A_1^{1/3} A_2^{1/3} \\frac{d}{R_{12}} e^{-\\frac{r-R_{12}}{d}} $$\n",
    "donde $a_S \\sim 17.8$ MeV es el coeficiente de superficie de la fórmula de masas. Este potencial integra la fuerza de repulsión coulombiana, la fuerza centrífuga y el potencial nuclear entre los participantes, siendo $R_{12}=r_0(A_1^{1/3}+A_2^{1/3})$ la suma de ambos radios y $d\\sim 1.35$ fm una variable a ajustar que nos dice a partir de que punto comienza a ser fuerte la fuerza nuclear. Definimos $x$ e $y$ como las razones entre el potencial de Coulomb y la fuerza centrífuga sobre el potencial nuclear (respectivamente), tal que: \n",
    "\n",
    "$$\n",
    "x = \\frac{k_c e^2}{r_0 a_S} \\cdot \\frac{Z_1 Z_2}{A_1^{1/3} A_2^{1/3} \\left( A_1^{1/3} + A_2^{1/3} \\right)} \\qquad  y = \\frac{\\hbar^2}{2u r_0^2 a_S} \\cdot \\frac{A_1 + A_2}{A_1^{4/3} A_2^{4/3} \\left( A_1^{1/3} + A_2^{1/3} \\right)^2}\n",
    "$$\n",
    "donde $\\mu = u( A_1 A_2)/(A_1+A_2)$. Así pues tenemos: \n",
    "\n",
    "$$ V_l(R_{12}) =  a_S A_1^{1/3} A_2^{1/3} \\left( x + y l^2 - 1   \\right) = \\frac{k_C Z_1Z_2e^2}{R_{12}} \\frac{1}{x} \\left( x + y l^2 - \\frac{d}{R_{12}}  \\right)  $$\n",
    "El momento angular máximo dependerá principalmente de la energía del haz incidente, como bien se refleja en esta imagen  (Bass (Phys. Lett. B 47, 139 (1973))): \n",
    "\n",
    "<img src=\"Imagen2.png\" alt=\"image\" width=\"50%\">\n",
    "\n",
    "Al analizar el momento angular límite para la fusión, es necesario distinguir tres regiones energéticas distintas. Para energías de bombardeo por debajo de\n",
    "\n",
    "$$ E_1 = \\frac{Z_1 Z_2 e^2}{R_{12}} \\left\\{ 1 + \\frac{1 - x}{2x} - \\frac{1}{x} \\cdot \\frac{d}{R_{12}} \\right\\} = 131.82 \\ \\text{MeV} $$\n",
    "donde hemos usado $R_{12} = r_0 (A_1^{1/3} + A_2^{1/3})  =10.18$ fm y $x=0.309$. El momento angular límite $ l_{\\text{fu}}$ se determina imponiendo que la energía del movimiento relativo sea igual al máximo del potencial efectivo $ V_l $. La distancia $ r $ a la cual se alcanza dicho máximo disminuye al aumentar tanto $ l_{\\text{fu}} $ como $ E_{\\text{c.m.}} $, y coincide con $ R_{12} $ cuando $ E_{\\text{c.m.}} = E_1 $. El momento angular límite para la fusión a la energía $ E_1 $ viene dado por:\n",
    "\n",
    "$$ l_{\\text{fu}}(E_1) = \\left( \\frac{1 - x}{2 y} \\right)^{1/2} $$\n",
    "Así pues, en este caso: \n",
    "\n",
    "$$ x= 0.309 \\qquad  y= 0.000140 \\qquad  l_{fu}= 70.33 $$\n",
    "\n",
    "y usando la relación entre el máximo y el promedio tal que $\\langle l \\rangle = \\frac{2}{3} l_{fu}$ tenemos: \n",
    "\n",
    "$$ l \\equiv  \\langle l \\rangle =  46.88 $$\n",
    "En realidad $l_{fu}$ no puede tener un valor \"real\", debería ser un valor entero. El valor real del momento angular (no el número cuántico) será: \n",
    "\n",
    "$$ \\langle L \\rangle =  46.88 \\hbar  $$\n",
    "Aunque técnicamente el momento angular medio es: \n",
    "\n",
    "$$ \\langle L \\rangle = \\sqrt{l(l+1)} \\hbar = 47.38 \\hbar  $$\n",
    "aunque al haber usado el término hamiltoniano $l^2 \\hbar^2$ esta claro que la primera es la correcta. \n",
    "\n",
    "Por otro lado, cuando  $E<E_1$ y $x < 1$, el momento angular máximo se calcula igualando $T_{cm}$ y $V_{l}(R_{12})$ y despejando $l$. Así pues, que tenemos, despejando $l^2$:\n",
    "\n",
    "$$\n",
    "l^2 = \\frac{1}{y} \\left( T_{cm} \\frac{R_{12} \\, x}{k_C Z_1 Z_2 e^2} - x + \\frac{d}{R_{12}} \\right)\n",
    "$$\n",
    "Tal que \n",
    "\n",
    "$$ l_{fu} =  36.85 $$ \n",
    "\n",
    "$$ \\langle l \\rangle =   24.57  $$ "
   ]
  },
  {
   "cell_type": "code",
   "execution_count": 167,
   "metadata": {},
   "outputs": [
    {
     "name": "stdout",
     "output_type": "stream",
     "text": [
      "R12 10.183899503817347\n",
      "x= 0.30906374410847465\n",
      "y= 6.985172164165747e-05\n",
      "l_fu= 70.32592221345033\n",
      "l  = 46.88394814230021\n",
      "l2  = 47.38131004470218\n",
      "Lfu2= 4945.735335172266\n",
      "E1 = 131.82 MeV\n"
     ]
    }
   ],
   "source": [
    "def calcular_Lfu2(Z1, Z2, A1, A2, mu, R12, a_s, u, r0=1.2, kc=1.44, hbar=197.327):\n",
    "    \"\"\"\n",
    "    Calcula L_fu^2 usando las expresiones para x, y y el valor de entrada de parámetros nucleares.\n",
    "\n",
    "    Parámetros:\n",
    "    - Z1, Z2: números atómicos\n",
    "    - A1, A2: números másicos\n",
    "    - mu: masa reducida en MeV/c^2\n",
    "    - R12: distancia nuclear efectiva (fm)\n",
    "    - a_s: coef. de superficie (MeV)\n",
    "    - u: unidad de masa (MeV/c^2)\n",
    "    - r0: radio nuclear (fm)\n",
    "    - kc: constante de Coulomb (MeV·fm)\n",
    "    - hbar: constante de Planck reducida (MeV·fm)\n",
    "\n",
    "    Retorna:\n",
    "    - L_fu^2 (valor escalar)\n",
    "    \"\"\"\n",
    "\n",
    "    x = (kc / (r0 * a_s)) * (Z1 * Z2) / (A1**(1/3) * A2**(1/3) * (A1**(1/3) + A2**(1/3)))\n",
    "    y = (hbar**2 / (2 * u * r0**2 * a_s)) * ((A1 + A2) / (A1**(4/3) * A2**(4/3) * (A1**(1/3) + A2**(1/3))**2))\n",
    "    print(\"x=\",x)\n",
    "    print(\"y=\",y)\n",
    "    Lfu2 = (1 - x) / (2 * y)\n",
    "    print(\"l_fu=\",np.sqrt(Lfu2))\n",
    "    print(\"l  =\",np.sqrt(Lfu2)*(2/3))\n",
    "    l=np.sqrt(Lfu2)*(2/3)\n",
    "    print(\"l2  =\",np.sqrt(l*(l+1)))\n",
    "    return Lfu2,x,y\n",
    "\n",
    "def calcular_E1(Z1, Z2, R12, x, d):\n",
    "    \"\"\"\n",
    "    Calcula E1 usando la fórmula:\n",
    "    E1 = (Z1 * Z2 * e^2 / R12) * [1 + (1 - x)/(2x) - (1/x)*(d/R12)]\n",
    "    \"\"\"\n",
    "    e2 = 1.44  # MeV·fm (constante de interacción electromagnética)\n",
    "    \n",
    "    prefactor = (Z1 * Z2 * e2) / R12\n",
    "    parentesis = 1 + (1 - x)/(2 * x) - (1 / x) * (d / R12)\n",
    "    \n",
    "    E1 = prefactor * parentesis\n",
    "    return E1\n",
    "\n",
    "\n",
    "\n",
    "u= 931.4941\n",
    "Z1, Z2 = 6, 92    \n",
    "A1, A2 = 12, 238       \n",
    "mu = u * (A1 * A2) / (A1 + A2)  # masa reducida\n",
    "R12 = 1.2 * (A1**(1/3) + A2**(1/3))  # fm\n",
    "print(\"R12\",R12)\n",
    "a_s = 17.8  # MeV (valor típico)\n",
    "\n",
    "Lfu2,x,y=calcular_Lfu2(Z1, Z2, A1, A2, mu, R12, a_s, u)\n",
    "print(\"Lfu2=\",Lfu2)\n",
    "resultado = calcular_E1(Z1, Z2, R12, x, 1.35)\n",
    "print(f\"E1 = {resultado:.2f} MeV\")\n",
    "\n"
   ]
  },
  {
   "cell_type": "code",
   "execution_count": 181,
   "metadata": {},
   "outputs": [
    {
     "name": "stdout",
     "output_type": "stream",
     "text": [
      "68.53007827839522\n",
      "78.05261625981738\n",
      "0.7014969218117479\n",
      "6.985172164165747e-05\n",
      "l= 36.85052762629987\n",
      "l medio= 24.567018417533248\n",
      "l^2 = 1357.9613863366899\n"
     ]
    }
   ],
   "source": [
    "def calcular_l2(Z1, Z2, R12, d, x, y, Tbeam):\n",
    "    \"\"\"\n",
    "    Calcula l^2 con R12 en femtómetros y Vl en MeV.\n",
    "\n",
    "    Parámetros:\n",
    "        Z1, Z2 : int\n",
    "            Números atómicos de los núcleos 1 y 2.\n",
    "        R12_fm : float\n",
    "            Distancia entre núcleos en femtómetros.\n",
    "        d_fm : float\n",
    "            Parámetro d en femtómetros.\n",
    "        x, y : float\n",
    "            Parámetros adimensionales.\n",
    "        Vl_R12_MeV : float\n",
    "            Potencial V_l(R12) en MeV.\n",
    "\n",
    "    Retorna:\n",
    "        l2 : float\n",
    "            El valor de l al cuadrado.\n",
    "    \"\"\"\n",
    "\n",
    "    # Cálculo\n",
    "    \n",
    "    e2 = 1.44  # MeV·fm (constante de interacción electromagnética)\n",
    "    \n",
    "    prefactor = (Z1 * Z2 * e2) / R12\n",
    "    \n",
    "    \n",
    "    print(prefactor)\n",
    "    print((Tbeam/prefactor - x + d / R12) )\n",
    "    print(y)\n",
    "    \n",
    "    l2 = (x*Tbeam/prefactor - x + d / R12) / y\n",
    "    \n",
    "    print(\"l=\",np.sqrt(l2))\n",
    "    print(\"l medio=\",np.sqrt(l2)*(2/3))\n",
    "\n",
    "    return l2\n",
    "\n",
    "u= 931.4941\n",
    "d=1.35 # fm\n",
    "Z1, Z2 = 6, 92    \n",
    "A1, A2 = 12, 238       \n",
    "mu = u * (A1 * A2) / (A1 + A2)  # masa reducida\n",
    "R12 = 1.2 * (A1**(1/3) + A2**(1/3))  # fm\n",
    "a_s = 17.8  # MeV (valor típico)\n",
    "\n",
    "print(Tcm)\n",
    "\n",
    "resultado = calcular_l2(Z1, Z2, R12, d, x, y, Tcm)\n",
    "print(f\"l^2 = {resultado}\")"
   ]
  },
  {
   "cell_type": "markdown",
   "metadata": {},
   "source": [
    "### Apartado c)\n"
   ]
  },
  {
   "cell_type": "markdown",
   "metadata": {},
   "source": [
    "Hay que ver si **es capaz de fisionar** y **cuantos neutrones emite después de fisionar**. Dado que en el sistema en reposo la energía de excitación es la misma, la única condición es que $E^*>B_{f}$ siendo $B_{f}$= 7 MeV la altura de la barrera (en este caso de la fisión simétrica). Así pues: \n",
    "\n",
    "$$ E^* - B_f = 37.6814 \\ \\text{MeV} >0 $$\n",
    "\n",
    "por lo que efectivamente tenemos que la fisión simétrica es posible. Para calcular el número de neutrones que puede emitir antes de fisionar de calcularlo es usando las energías de ligadura de los neutrones, suponiendo que salen con energía cinética de 0 MeV. Lógicamente esto no es físico, pero tampoco podemos hacer nada mejor. Veamos cual es el coste  de emitir un neutrón\n",
    "\n",
    "\n",
    "$$ ^{250} \\text{Cf} \\to  ^{249} \\text{Cf} +  n  \\qquad Q_{gs} =\\Delta (^{250} \\text{Cf} )-  \\Delta ( ^{249} \\text{Cf})  + \\Delta (n) + \\langle \\epsilon \\rangle =  -6.6237181 $$\n",
    "$$ ^{250} \\text{Cf} \\to  ^{248} \\text{Cf} + 2 n  \\qquad Q_{gs} =\\Delta (^{250} \\text{Cf} )-  \\Delta ( ^{248} \\text{Cf})  + 2\\Delta (n) + 2  \\langle \\epsilon \\rangle =  -12.2103362 $$\n",
    "$$ ^{250} \\text{Cf} \\to  ^{247} \\text{Cf} + 3 n  \\qquad Q_{gs} =\\Delta (^{250} \\text{Cf} )-  \\Delta ( ^{247} \\text{Cf})  + 3\\Delta (n) + 3  \\langle \\epsilon \\rangle= -19.1526543 $$\n",
    "$$ ^{250} \\text{Cf} \\to  ^{246} \\text{Cf} + 4 n  \\qquad Q_{gs} =\\Delta (^{250} \\text{Cf} )-  \\Delta ( ^{246} \\text{Cf})  + 4\\Delta (n) + 4  \\langle \\epsilon \\rangle = -25.2051724 $$\n",
    "$$ ^{250} \\text{Cf} \\to  ^{245} \\text{Cf} + 5 n  \\qquad Q_{gs} =\\Delta (^{250} \\text{Cf} )-  \\Delta ( ^{245} \\text{Cf})  + 5 \\Delta (n) + 5  \\langle \\epsilon \\rangle = -32.5714905 $$\n",
    "$$ ^{250} \\text{Cf} \\to  ^{244} \\text{Cf} + 6 n  \\qquad Q_{gs} =\\Delta (^{250} \\text{Cf} )-  \\Delta ( ^{244} \\text{Cf})  + 6\\Delta (n) + 6  \\langle \\epsilon \\rangle = -38.7356086 $$\n",
    "donde hemos asumido $\\langle \\epsilon \\rangle=0$ (aunque podríamos añadir un valor $\\sim 1$ MeV). Así pues, esta claro que podemos emitir como máximo 5 neutrones antes de no poder fisionar (siempre y cuando la barrera no cambie mucho, lo cual es una buena aproximación). "
   ]
  },
  {
   "cell_type": "code",
   "execution_count": null,
   "metadata": {},
   "outputs": [
    {
     "name": "stdout",
     "output_type": "stream",
     "text": [
      "E^* - B_f=  37.68140000000017\n",
      "Q1= -6.623718100000007\n",
      "Q2= -12.210336200000004\n",
      "Q3= -19.152654300000002\n",
      "Q4= -25.205172400000002\n",
      "Q5= -32.5714905\n",
      "Q6= -38.73560860000001\n"
     ]
    }
   ],
   "source": [
    "Bf=7\n",
    "DeltaCf249=69722.7 /1000\n",
    "DeltaCf248=67238 / 1000\n",
    "DeltaCf247=66109 / 1000\n",
    "DeltaCf246=64090.2  / 1000\n",
    "DeltaCf245=63385.2/ 1000 \n",
    "DeltaCf244=61478 / 1000\n",
    "DeltaN=8071.3181 / 1000\n",
    "\n",
    "\n",
    "\n",
    "Q1 = DeltaCf250-DeltaCf249-DeltaN\n",
    "Q2 = DeltaCf250-DeltaCf248-2*DeltaN\n",
    "Q3 = DeltaCf250-DeltaCf247-3*DeltaN\n",
    "Q4 = DeltaCf250-DeltaCf246-4*DeltaN\n",
    "Q5 = DeltaCf250-DeltaCf245-5*DeltaN\n",
    "Q6 = DeltaCf250-DeltaCf244-6*DeltaN\n",
    "\n",
    "print(\"E^* - B_f= \", Ex-Bf)\n",
    "print(\"Q1=\",Q1)\n",
    "print(\"Q2=\",Q2)\n",
    "print(\"Q3=\",Q3)\n",
    "print(\"Q4=\",Q4)\n",
    "print(\"Q5=\",Q5)\n",
    "print(\"Q6=\",Q6)"
   ]
  },
  {
   "cell_type": "markdown",
   "metadata": {},
   "source": [
    "### Apartado d) "
   ]
  },
  {
   "cell_type": "markdown",
   "metadata": {},
   "source": [
    "Nos preguntan **si añadir dos protones al $^{238}$ U podría producir un sistema fisionante**. Un sistema fisionante es aquel sistema que puede fisionar de manera espontánea, aunque la energía de excitación no supere la barrera de fisión, produciéndose por efecto túnel. Suponiendo que la fisión es simétrica, tenemos que el $^{240}\\text{Pu}$:\n",
    "\n",
    "$$ ^{240}_{94} \\text{Pu} \\to 2 ^{120}_{47} \\text{Ag}  \\qquad   Q_{gs} = \\Delta(^{240}_{94} \\text{Pu})  -  2 \\Delta(^{120}_{47} \\text{Ag}) = 201.0213 \\text{MeV} $$\n",
    "por lo que **sería un sistema fisionante**. "
   ]
  },
  {
   "cell_type": "code",
   "execution_count": null,
   "metadata": {},
   "outputs": [
    {
     "name": "stdout",
     "output_type": "stream",
     "text": [
      "Q= 201.0213\n"
     ]
    }
   ],
   "source": [
    "DeltaPu240=50125.3/1000 \n",
    "DeltaAg120=-75448/1000\n",
    "DeltaBe10=12607.49/1000\n",
    "\n",
    "Q = DeltaPu240 - 2 * DeltaAg120\n",
    "print(\"Q=\",Q)"
   ]
  },
  {
   "cell_type": "markdown",
   "metadata": {},
   "source": [
    "### Apartado e) "
   ]
  },
  {
   "cell_type": "markdown",
   "metadata": {},
   "source": [
    "Para saber cuantos neutrones puede emitir tenemos que tener constancia de la energía de excitación. Para esto calculamos las energías de las partículas de la reacción\n",
    "\n",
    "$$ ^{238}\\text{U}  + ^{12}\\text{C}  \\to ^{240}\\text{Pu} + ^{12}\\text{Be} $$\n",
    "\n",
    "y luego suponemos que toda la energía de excitación se va al plutonio 240. Podemos usar directamente la cinemática de las diapositivas, que nos dice que en una transferencia genérica pasa $m$ nuleones de $a$ a $A$ y $n$ nucleones de $A$ a $a$, con una reacción genérica\n",
    "\n",
    "$$ a + A \\to b + B \\qquad b = a -m +n \\quad B = A + m - n $$\n",
    "Las ecuaciones de las paginas 914 y 915 del Tahinata nos dan información acerca del cálculo de esta energía de excitación (en realidad \"the most probable total excitation energy\", i.e. la energía que se da en el ángulo de grazing, véase apartado siguiente). En cualquier caso no tenemos más información que esta para calcularla, ya que resolver la cinemática de a + b $\\to$ c + d no nos permite obtener una energía de excitación, si no una distribución para cada ángulo. Lo que si vamos a suponer, al menos para calcular el número máximo de neutrones podemos emitir, es que toda la energía de excitación se va al plutonio y no al berilio. Así pues, las ecuaciones : \n",
    "\n",
    "\n",
    "$$\n",
    "Q_{\\text{opt}} = - (\\sin^2 \\beta) [E_i - V_i^c] \\qquad  Q_{gs} = m_U + m_C - m_{Pu} - m_{Be}\n",
    "$$\n",
    "\n",
    "$$\n",
    "\\cos^2 \\beta = \\left( 1 - \\frac{m}{a} - \\frac{n}{b} \\right) \\left( 1 - \\frac{m}{B} - \\frac{n}{b} \\right)\n",
    "$$\n",
    "\n",
    "$$\n",
    "E^*_{\\text{opt}} = Q_{gs} - Q_{\\text{opt}}\n",
    "$$\n",
    "siendo $V_i^c$ el valor de la energía de Coulomb en el punto en el que están más cerca y $E_i$ la energía cinética incidente en el sistema CM, calculada en el apartado a). Aunque como bien se indica en el Tahinata, ``For a more realistic calculation, friction effects need to be introduced (Alhassid et al. 1979)''. Con estos resultados obtenemos un resultado negativo de energía de excitación: \n",
    "\n",
    "$$ E^* = -3.528 \\ \\text{MeV} $$\n",
    "Por lo que según esta fórmula no es posible energéticametne la reacción. Si por otro lado usamos la coincidencia de trayectorias, usadas las colisiones grazing en las que el canal de entrada y salida los domina la interacción Coulombiana, tal que:\n",
    "\n",
    "$$ Q_{opt} = \\left( \\frac{Z_{Pu} Z_{Be}}{Z_{U}Z_{C}} -1 \\right) E_i $$\n",
    "tal que usando esto:\n",
    "\n",
    "$$ E^* = 6.42 \\ \\text{MeV} $$\n",
    "enegía de excitación que, por otro lado, se podría repatir entre ambos núcleos, aunque podemos asumir que se la lleva todo el plutonio. Como podemos ver está por encima de la barrera $B_f=6$ MeV por lo que puede fisionar sin necesidad de fluctuaciones cuánticas u otros fenómenos (efecto túnel). Aún así, antes de fisionar directamente, tenemos que \n",
    "\n",
    "$$ E^* - B_f = 0.42  \\ \\text{MeV}  $$\n",
    "que teniendo en cuenta \n",
    "\n",
    "$$ ^{240} \\text{Pu} \\to  ^{239} \\text{pu} +  n  \\qquad Q_{gs} =\\Delta (^{240} \\text{Pu} )-  \\Delta ( ^{239} \\text{Pu})  + \\Delta (n) + \\langle \\epsilon \\rangle =  -6.534  \\ \\text{MeV}  $$\n",
    "donde de nuevo $\\langle \\epsilon \\rangle=0$. Como podemos ver $E^*+Q_{gs}<0$, por lo que no puede emitirse ningún neutrón antes de fisionar. "
   ]
  },
  {
   "cell_type": "code",
   "execution_count": null,
   "metadata": {},
   "outputs": [
    {
     "name": "stdout",
     "output_type": "stream",
     "text": [
      "Qgg= -15.425090000000004 -11.897583034443612\n",
      "Ex -3.527506965556393\n",
      "68.53007827839522\n",
      "Ex= 6.425079885865136\n",
      "Q= -6.534218099999999\n"
     ]
    }
   ],
   "source": [
    "\n",
    "def excitacion_multinucleon(Ei, Vc, m, n, a, A, b,B, Deltaa, Deltab, DeltaA,DeltaB):\n",
    "    \"\"\"\n",
    "    Calcula la energía de excitación óptima en una transferencia multinucleónica.\n",
    "\n",
    "    Parámetros:\n",
    "    - Ei : Energía incidente en el sistema centro de masas (MeV)\n",
    "    - Vc : Energía de Coulomb a la distancia de aproximación (MeV)\n",
    "    - m  : número de nucleones transferidos a->A\n",
    "    - n  : número de nucleones transferidos A->a\n",
    "    - a  : número másico del proyectil\n",
    "    - A  : número másico del blanco\n",
    "    - b  : número másico del fragmento del proyectil tras la transferencia\n",
    "    - B  : número másico del bsin2_betalanco tras la transferencia\n",
    "\n",
    "    Retorna:\n",
    "    - E_opt: energía de excitación mas probable (MeV)\n",
    "    \"\"\"\n",
    "    \n",
    "    Qgg = DeltaA + Deltaa - Deltab - DeltaB\n",
    "    beta = (1 - m/B - n/b)*(1-m/a-n/A)\n",
    "    Qopt = -(1-beta) * (Ei - Vc)\n",
    "    E_opt = Qgg - Qopt\n",
    "    print(\"Qgg=\",Qgg,Qopt)\n",
    "    return E_opt\n",
    "\n",
    "\n",
    "Ei = Tcm    \n",
    "Vc=0\n",
    "m = 2\n",
    "n = 0\n",
    "a = 12\n",
    "A = 238\n",
    "b = 10\n",
    "B = 240\n",
    "\n",
    "DeltaU238=47.3077\n",
    "DeltaC12=0\n",
    "DeltaPu240=50125.3/1000 \n",
    "DeltaBe10=12607.49/1000\n",
    "\n",
    "Eopt = excitacion_multinucleon(Ei, Vc, m, n, a, A, b, B,DeltaC12,DeltaBe10,DeltaU238,DeltaPu240)\n",
    "\n",
    "print(\"Ex\",Eopt)\n",
    "\n",
    "Qgg = DeltaU238 + DeltaC12 - DeltaPu240 - DeltaBe10\n",
    "print(Ei)\n",
    "Qopt=((94*4)/(6*92)-1)*Ei\n",
    "E_opt = Qgg - Qopt\n",
    "print(\"Ex=\",E_opt)\n",
    "\n",
    "DeltaPu239=48588.2/1000\n",
    "\n",
    "Q=DeltaPu240-DeltaPu239-DeltaN\n",
    "print(\"Q=\",Q)\n"
   ]
  },
  {
   "cell_type": "markdown",
   "metadata": {},
   "source": [
    "### Apartado f)"
   ]
  },
  {
   "cell_type": "markdown",
   "metadata": {},
   "source": [
    "Nos preguntan por el ángulo de emisión. Según el Tahinata ``The results demonstrate that MNTr (Multi Nucleon Transfer) reaction happens at an optimal angle, called the grazing angle $\\Theta_{gr}$ , at which the colliding nuclei approach most closely together and the probability to exchange nucleons is maximized'' (pag 913). Parece obvio que **el ángulo para el cual podría los detectores para medir el producto ligero** será la transformación de Lorentz del ángulo en el sistema lab de $\\pi$ menos el ángulo de grazing $\\Theta_{gr}$. En realidad debería ser su transformada al sistema laboratorio, ya que el ángulo de grazing está definido para el sistema centro de masas, por lo que diferenciando $\\Theta_{cm}=\\pi-\\Theta_{gr}$ (centro de masas) y $\\theta_{lab}$ (laboratorio), tenemos:  \n",
    "\n",
    "$$ \\sin \\frac{\\Theta_{gr}}{2} = \\frac{\\epsilon_C}{2 \\epsilon - \\epsilon_C}  $$\n",
    "siendo $\\epsilon$ las energía por nucleón del proyectil incidente (6 MeV) y $\\epsilon_C$:\n",
    "\n",
    "$$ \\epsilon_C = \\frac{1}{4\\pi \\epsilon_{0}} \\frac{u}{\\mu} \\frac{Z_1Z_2 e^2}{R_C} $$\n",
    "donde $u$ es la masa del núcleo incidente y $\\mu$ la masa reducida del sistema. El valor $R_C$ es la distancia (entre los centros de los núcleos) a partir la cual la interacción nuclear comienza a dominar y se puede calcular como: \n",
    "\n",
    "$$ R_C = R_U + R_C + 3 \\ \\text{fm} $$\n",
    "donde $R_i = 1.12 A^{-1/3} \\ \\text{fm}$. Esta distancia es la distancia para la cual ocurre el grazing, y por tanto es la distancia entre los centros de los nucleones para la cual la probabilidad de intercambio sea máxima: es el parámetro de impacto más probable. Así pues, tenemos: \n",
    "\n",
    "\n",
    "$$ \\epsilon_C = 5.83 \\ \\text{MeV} \\quad R_C = 11.94 \\ \\text{fm} \\quad \\epsilon=6 \\ \\text{MeV} \\qquad \\Theta_{gr} = 141.33 ^\\circ $$\n",
    "ya que si usamos $\\epsilon=T_{cm}/(A_U+A_C)=0.33$ obtenemos un ángulo de grazing no calculable al ser el seno cuadrado del mismo mayor que 1. Y el ángulo al que podríamos colocar en el sitema laboratorio el ángulo. Podemos calcular a través de las ecuaciones de conservación del momento, ecuaciones que ya resolví en su momento para mi TFG (dejo el anexo al final):\n",
    "\n",
    "$$ \\theta_{lab} = 18.9 ^\\circ $$\n",
    "Por otro lado, hay métodos para calcularlo como: "
   ]
  },
  {
   "cell_type": "code",
   "execution_count": null,
   "metadata": {},
   "outputs": [
    {
     "name": "stdout",
     "output_type": "stream",
     "text": [
      "10641.49757320283\n",
      "RC= 11.942707532044013\n",
      "6.0\n",
      "5.825932369470687\n",
      "141.33499472880723\n",
      "gamma 1.0058349447495332\n",
      "beta 0.10755714129007801\n"
     ]
    },
    {
     "data": {
      "text/plain": [
       "(188.16322648373716, 18.902588618754184)"
      ]
     },
     "execution_count": 155,
     "metadata": {},
     "output_type": "execute_result"
    }
   ],
   "source": [
    "from scipy.constants import e, epsilon_0, pi\n",
    "\n",
    "def calcular_grazing_angle(A_U, A_C, Z_U, Z_C, m_U, m_C,Tcm):\n",
    "    # Masa reducida en unidades de masa atómica\n",
    "    mu_u = m_U * m_C / (m_U + m_C) # MeV/c2 \n",
    "    \n",
    "    print(mu_u)\n",
    "\n",
    "    RU = 1.12 * A_U ** (1/3) - 0.94 * (A_U**-(1/3))\n",
    "    RC = 1.12 * A_C ** (1/3) - 0.94 * (A_C**-(1/3))\n",
    "    Rg_fm = RU + RC + 3  # fm\n",
    "    Rg_m = Rg_fm * 1e-15  # m\n",
    "\n",
    "    # Energía relativa en el centro de masas\n",
    "    epsilon=Tcm/(A_U+A_C)\n",
    "    \n",
    "    print(\"RC=\",Rg_fm)\n",
    "    \n",
    "\n",
    "    # Energía de barrera de Coulomb (epsilon_C) en MeV\n",
    "    e2 = e**2 / (4 * pi * epsilon_0)  / (e*10**6)\n",
    "    \n",
    "    epsilon_C = (u/(mu_u)) * (Z_U * Z_C * e2) / (Rg_m )  # J to MeV\n",
    "\n",
    "    # Ángulo de grazing\n",
    "    sin_theta2 = epsilon_C / (2 * epsilon - epsilon_C)\n",
    "    theta_gr_rad = 2 * np.arcsin(sin_theta2)\n",
    "    theta_gr_deg = np.degrees(theta_gr_rad)\n",
    "    print(epsilon)\n",
    "    print(epsilon_C)\n",
    "    return theta_gr_deg, epsilon_C, Rg_fm\n",
    "\n",
    "def valores4(m1, m2, m3, m4, tbeam1, thetap_rad, Ex=0.0):\n",
    "    \"\"\"\n",
    "    Calcula la energía cinética y el ángulo de salida (LAB) de la partícula 4\n",
    "    a partir de la cinemática de una colisión 2→2 en el sistema laboratorio.\n",
    "\n",
    "    Parámetros:\n",
    "    - m1, m2, m3, m4: masas de las partículas (MeV/c²)\n",
    "    - tbeam1: energía cinética de la partícula 1 (MeV)\n",
    "    - thetap_rad: ángulo en el CM de la partícula 4 (rad)\n",
    "    - Ex: energía de excitación (opcional, MeV)\n",
    "\n",
    "    Devuelve:\n",
    "    - T4: energía cinética de la partícula 4 en el laboratorio (MeV)\n",
    "    - theta4: ángulo de salida de la partícula 4 en el laboratorio (radianes)\n",
    "    \"\"\"\n",
    "    E1 = m1 + tbeam1\n",
    "    p1 = np.sqrt(E1**2 - m1**2)\n",
    "    E2 = m2\n",
    "    Etot = E1 + E2\n",
    "    Etotp = np.sqrt(Etot**2 - p1**2)\n",
    "\n",
    "    gamma = Etot / Etotp\n",
    "    beta = p1 / Etot\n",
    "    \n",
    "    print(\"gamma\",gamma)\n",
    "    print(\"beta\",beta)\n",
    "\n",
    "    E3p = (Etotp + (m3**2 - m4**2) / Etotp) / 2\n",
    "    E4p = (Etotp + (m4**2 - m3**2) / Etotp) / 2\n",
    "    p4p = np.sqrt(E4p**2 - m4**2)\n",
    "\n",
    "    E4 = gamma * (E4p + beta * p4p * np.cos(thetap_rad))\n",
    "    p4 = np.sqrt(E4**2 - m4**2)\n",
    "\n",
    "    T4 = E4 - m4\n",
    "    theta4 = np.arccos((gamma / p4) * (p4p * np.cos(thetap_rad) + beta * E4p))\n",
    "\n",
    "    return T4, theta4*180/np.pi\n",
    "\n",
    "\n",
    "# Parámetros de ejemplo\n",
    "\n",
    "DeltaU238=47.3077\n",
    "DeltaC12=0\n",
    "DeltaPu240=50125.3/1000 \n",
    "DeltaBe10=12607.49/1000\n",
    "\n",
    "A_U, A_C = 238, 12\n",
    "Z_U, Z_C = 92, 6\n",
    "MC12 = DeltaC12 + 12 * u\n",
    "MU238 = DeltaU238 + 238 * u\n",
    "MBe10 = DeltaBe10+ 10 * u\n",
    "MPu240 = DeltaPu240 + 240 * u\n",
    "\n",
    "\n",
    "\n",
    "theta_gr_deg, epsilon_C, Rg_fm = calcular_grazing_angle(A_U,A_C,Z_U,Z_C,MU238,MC12,6*250)\n",
    "print(theta_gr_deg)\n",
    "\n",
    "\n",
    "# Ejemplo de uso\n",
    "\n",
    "tbeam1 = 6*238  # MeV\n",
    "thetap_deg = 180 + theta_gr_deg\n",
    "thetap_rad = thetap_deg*np.pi/180\n",
    "\n",
    "valores4(MU238, MC12, MPu240, MBe10, tbeam1, thetap_rad,Ex=E_opt)\n"
   ]
  },
  {
   "cell_type": "markdown",
   "metadata": {},
   "source": [
    "### Apartado g)"
   ]
  },
  {
   "cell_type": "markdown",
   "metadata": {},
   "source": [
    "El parámetro de impacto $b$ más probable para la reacción de trasferencia es $R_C$, ya que es la distancia entre los núcleos para la cual se da el ángulo de Grazing, que tal y como hemos visto es aquel ángulo en el que la transferencia de nucleones es óptima. Así pues, en el caso de trasnferecia tenemos que el parámetro de impacto más probable $b=11.94$ fm (que no es lo mismo que el parámetro de impacto máximo o medio). Por otro lado, el parámetro de impacto máximo al que ocurre la reacción de fusión será: \n",
    "\n",
    "$$ b^{fus}_{\\max} = \\frac{L_{\\max}^{fus}}{p_U} $$\n",
    "Usando que el valor máximo es $L\\approx 49.73 \\hbar$ y que $p_U= \\sqrt{2m_UT_U}$, tenemos \n",
    "\n",
    "$$ b^{fus}_{\\max} =  4.007897622601333 \\ \\text{fm} $$\n",
    "Tal que, por otro lado, $b^{MNT} \\approx 11.94$. \n",
    "\n",
    "Aunque los valores numéricos de los parámetros de impacto más probables para transferencia y fusión son bastante diferentes (11.94 fm y  4.007897622601333 fm, respectivamente). La transferencia tiende a ocurrir en regiones más periféricas, donde los núcleos apenas llegan a superponerse y la interacción fuerte no actúa plenamente, lo cual permite que suceda incluso en colisiones menos centrales.\n",
    "\n",
    "Esto contrasta con la fusión, que requiere una aproximación más cercana entre los núcleos, es decir, un rango de impacto más restringido. En términos prácticos, mientras que la fusión necesita condiciones más específicas para producirse, la transferencia puede tener lugar en una gama más amplia de trayectorias posibles, lo que incrementa significativamente su probabilidad. Además estamos comparando parámetro de impacto más probable y máximo, en realidad la trasferencia podría darse incluso a un parámetro de impacto mayor. \n",
    "\n",
    "La transferencia aprovecha mejor los valores altos del parámetro de impacto, lo que implica una mayor densidad de trayectorias disponibles. La fusión, en cambio, queda limitada a una franja más estrecha, en la que los núcleos se acercan lo suficiente como para que sus estructuras internas se fusionen completamente. \n",
    "\n",
    "Desde el punto de vista físico las condiciones para la transferencia son mucho más favorables. Esto sugiere que, en ausencia de cálculos detallados de rendimiento, podemos anticipar una mayor probabilidad de transferencia que de fusión. \n"
   ]
  },
  {
   "cell_type": "code",
   "execution_count": 182,
   "metadata": {},
   "outputs": [
    {
     "name": "stdout",
     "output_type": "stream",
     "text": [
      "1207.6880339219847\n",
      "bmax= 4.007897622601333\n"
     ]
    }
   ],
   "source": [
    "hbar=0.197*10**(3) # MeV * fm\n",
    "pU = np.sqrt(2 * mu *Tcm)\n",
    "L = (24.57*hbar)\n",
    "print(pU)\n",
    "bmax = L/pU\n",
    "print(\"bmax=\",bmax)\n"
   ]
  },
  {
   "cell_type": "markdown",
   "metadata": {},
   "source": [
    "## Ejercicio 2"
   ]
  },
  {
   "cell_type": "markdown",
   "metadata": {},
   "source": [
    "### Apartado a)"
   ]
  },
  {
   "cell_type": "markdown",
   "metadata": {},
   "source": [
    "Sea, por definición $\\sigma$ el **número de partículas desapareadas en una capa**, $ \\Omega $ el **número de pares posibles en una capa** y $N$ el **número de nucleones en una capa**. Si $\\Omega$ es, como hemos dicho, el número de pares posibles en una capa, entonces tenemos que  $2 \\Omega$ es el máximo número de nucleones posibles en una capa, esto es, $2\\Omega= 2j+1$ siendo $j$ el momento angular total de la capa (recordemos que j es siempre semi-entero). Entonces:\n",
    "\n",
    "$2 \\Omega > N - \\sigma $\n",
    "Si la expresión de la energía es:\n",
    "\n",
    "$$ E(N, \\sigma) = -\\frac{G}{4} \\left[ \\sigma^2- 2\\sigma(\\Omega + 1) + 2N(\\Omega + 1) - N^2 \\right]  $$\n",
    "\n",
    "Así, para un $N$ y $\\Omega$ dado tenemos que: \n",
    "\n",
    "$$ \\frac{\\partial E(N,\\sigma)}{\\partial \\sigma} = - \\frac{G \\left(- 2 \\Omega + 2 \\sigma - 2\\right)}{4} \\qquad \\frac{\\partial^2 E(N,\\sigma)}{\\partial \\sigma^2} = - \\frac{G}{2} $$\n",
    "Como podemos ver tenemos un máximo cuando:\n",
    "\n",
    "$$ \\sigma = \\Omega + 1 $$\n",
    "Por definición $\\sigma \\in [0,\\Omega]$ (ya que el número máximo de estados desapareados es, precisamente, el número de posibles pares formables). Eso significa que $\\sigma < \\Omega+1$. Es decir, los estados físicos están a un lado del máximo, y por tanto la función para cualquier $E(N=N_0,\\sigma)$ para nuestro rango (y un $N_0$ dado) la función es **monótona creciente**. Si tenemos esto en cuenta, tenemos que $E(N,\\sigma)$, para $N$ y $\\Omega$ dados, es **mínimo** cuando $\\sigma$ es lo más pequeño posible. Recordamos también que el estado fundamental es el estado que minimza $E$. \n",
    "\n",
    "De hecho podemos ver en la gráfica siguiente que efectivamente el valor más pequeño posible  para un $N$ dado ($\\Omega=10$) es siempre el $\\sigma$ más pequeño. También colocamos el caso para $N=10$, donde podemos ver claramente que la función es monótona creciente. Ahora, ¿Cuál es el sigma más pequeño posible para $N$ par y $N$ impar? Pues: \n",
    "\n",
    "- **$N$ par**: cuando $N$ es par solo podemos tener $\\sigma$ pares o iguales a cero: $\\sigma \\in \\{ 0,2,4...N \\}$. Consecuentemente, el estado fundamental es $\\sigma=0$.\n",
    "- **$N$ impar**: cuando $N$ es impar solo podemos tener $\\sigma$ impares: $\\sigma \\in \\{ 1,3,...,N \\}$. Consecuentemente, el estado fundamental es $\\sigma=0$."
   ]
  },
  {
   "cell_type": "code",
   "execution_count": null,
   "metadata": {},
   "outputs": [
    {
     "name": "stdout",
     "output_type": "stream",
     "text": [
      "Derivada ∂E/∂sigma en LaTeX:\n",
      "- \\frac{G \\left(- 2 \\Omega + 2 \\sigma - 2\\right)}{4}\n",
      "Derivada ∂2E/∂sigma2 en LaTeX:\n",
      "- \\frac{G \\left(- 2 \\Omega + 2 \\sigma - 2\\right)}{4}\n"
     ]
    }
   ],
   "source": [
    "import sympy as sp\n",
    "# Definimos las variables simbólicas\n",
    "N, sigma, Omega, G = sp.symbols('N sigma Omega G')\n",
    "\n",
    "# Definimos la función E(N, sigma)\n",
    "E = -G/4 * (sigma*(sigma ) - 2*sigma*(Omega + 1) + 2*N*(Omega + 1) - N**2)\n",
    "\n",
    "# Derivamos E respecto a N\n",
    "dE_dN = sp.diff(E, sigma)\n",
    "dE_dN2 = sp.diff(dE_dN, sigma)\n",
    "\n",
    "# Mostramos el resultado en formato LaTeX\n",
    "latex_output = sp.latex(dE_dN)\n",
    "print(\"Derivada ∂E/∂sigma en LaTeX:\")\n",
    "print(latex_output)\n",
    "latex_output = sp.latex(dE_dN2)\n",
    "print(\"Derivada ∂2E/∂sigma2 en LaTeX:\")\n",
    "latex_output = sp.latex(dE_dN)\n",
    "print(latex_output)\n"
   ]
  },
  {
   "cell_type": "code",
   "execution_count": null,
   "metadata": {},
   "outputs": [
    {
     "name": "stderr",
     "output_type": "stream",
     "text": [
      "<>:41: SyntaxWarning: invalid escape sequence '\\s'\n",
      "<>:42: SyntaxWarning: invalid escape sequence '\\s'\n",
      "<>:41: SyntaxWarning: invalid escape sequence '\\s'\n",
      "<>:42: SyntaxWarning: invalid escape sequence '\\s'\n",
      "/tmp/ipykernel_186376/2645127191.py:41: SyntaxWarning: invalid escape sequence '\\s'\n",
      "  plt.colorbar(cp, label='E($\\sigma$, N) [G=1]')\n",
      "/tmp/ipykernel_186376/2645127191.py:42: SyntaxWarning: invalid escape sequence '\\s'\n",
      "  plt.xlabel('Número de desapareados $\\sigma$')\n"
     ]
    },
    {
     "data": {
      "image/png": "[encoded data removed]",
      "text/plain": [
       "<Figure size 1000x600 with 2 Axes>"
      ]
     },
     "metadata": {},
     "output_type": "display_data"
    }
   ],
   "source": [
    "import numpy as np\n",
    "import matplotlib.pyplot as plt\n",
    "\n",
    "# Constantes\n",
    "G = 1.0              # Constante de interacción\n",
    "Omega_val = 10       # Semidegeneración fija\n",
    "\n",
    "# Rango de variables\n",
    "sigma_vals = np.arange(0, Omega_val+1, 1)  # Seniority de 0 a 10\n",
    "N_vals = np.arange(0, Omega_val*2+1, 1)      # Número de partículas de 0 a 20\n",
    "\n",
    "# Mallas para sigma y N\n",
    "sigma_grid, N_grid = np.meshgrid(sigma_vals, N_vals, indexing='ij')\n",
    "\n",
    "# Solo se permite que sigma y N tengan misma paridad\n",
    "# mask = (sigma_grid % 2) == (N_grid % 2)\n",
    "\n",
    "# Inicializamos energía con NaN\n",
    "E_grid = np.full(sigma_grid.shape, np.nan)\n",
    "\n",
    "# Fórmula: E(N, sigma) = -G/4 * [sigma(sigma + 1) - 2*sigma*(Omega + 1) + 2*N*(Omega + 1) - N^2]\n",
    "E_grid = -G / 4 * (\n",
    "    sigma_grid *(sigma_grid )\n",
    "    - 2 * sigma_grid * (Omega_val + 1)\n",
    "    + 2 * N_grid * (Omega_val + 1)\n",
    "    - N_grid**2\n",
    ")\n",
    "\n",
    "# Graficamos\n",
    "plt.figure(figsize=(10, 6))\n",
    "cp = plt.contourf(sigma_grid, N_grid, E_grid, levels=50, cmap='viridis')\n",
    "sigma=np.linspace(0,10,10)\n",
    "invalid_region = N_grid < sigma_grid \n",
    "plt.contourf(sigma_grid, N_grid, invalid_region, levels=[0.5, 1], colors='red', alpha=0.5)\n",
    "\n",
    "invalid_region = N_grid > 20 - sigma_grid\n",
    "plt.contourf(sigma_grid, N_grid, invalid_region, levels=[0.5, 1], colors='red', alpha=0.5)\n",
    "\n",
    "plt.plot(sigma,20-sigma,\"k\")\n",
    "plt.plot(sigma,sigma,\"k\")\n",
    "plt.colorbar(cp, label='E($\\sigma$, N) [G=1]')\n",
    "plt.xlabel('Número de desapareados $\\sigma$')\n",
    "plt.ylabel('Número de partículas N')\n",
    "plt.title(r'Energía de apareamiento $E(\\sigma, N)$ con $\\Omega=10$, $G=1$')\n",
    "plt.tight_layout()\n",
    "plt.show()\n"
   ]
  },
  {
   "cell_type": "code",
   "execution_count": null,
   "metadata": {},
   "outputs": [
    {
     "data": {
      "image/png": "[encoded data removed]",
      "text/plain": [
       "<Figure size 600x400 with 1 Axes>"
      ]
     },
     "metadata": {},
     "output_type": "display_data"
    }
   ],
   "source": [
    "# Valor fijo de N\n",
    "N_fixed = 10\n",
    "N_index = np.where(N_vals == N_fixed)[0][0]\n",
    "\n",
    "# Extraer valores válidos de sigma y energía para ese N\n",
    "sigma_valid = sigma_vals[(sigma_vals % 2) == (N_fixed % 2)]\n",
    "E_fixed = E_grid[(sigma_vals % 2) == (N_fixed % 2), N_index]\n",
    "\n",
    "# Plot\n",
    "plt.figure(figsize=(6, 4))\n",
    "plt.plot(sigma_valid, E_fixed, marker='o', color='blue')\n",
    "plt.title(f\"Energía de apareamiento $E(\\\\sigma)$ para $N={N_fixed}$, $\\\\Omega=10$\")\n",
    "plt.xlabel(\"Número de desapareados $\\\\sigma$\")\n",
    "plt.ylabel(\"Energía $E(\\\\sigma, N)$ [G=1]\")\n",
    "plt.grid(True)\n",
    "plt.tight_layout()\n",
    "plt.show()\n"
   ]
  },
  {
   "cell_type": "markdown",
   "metadata": {},
   "source": [
    "### Apartado b)"
   ]
  },
  {
   "cell_type": "markdown",
   "metadata": {},
   "source": [
    "Una vez demostrado que la función $E(N,\\sigma)$ es monótona creciente para el rango de $\\sigma$ posible, está claro que los primeros estados excitados serán el segundo valor más pequeño de $\\sigma$. En el caso par tenemos $\\sigma=2$ y en el caso impar tenemos $\\sigma=3$. Una vez demostrado lo anterior esto es trivial. \n",
    "\n",
    "También tenemos que demostrar que la excitación es proporcional al número de posibles estados apareados ($N-\\sigma$). Así pues, tenemos que para $\\sigma=2$ y $N=2n$ con $n\\in \\mathbb{Z}^+$, tenemos pues: \n",
    "\n",
    "$$ E(N,\\sigma=2) = - \\frac{G \\left(- N^{2} + 2 N \\left(\\Omega + 1\\right) - 4 \\Omega\\right)}{4} $$\n",
    "Si ahora calculamos la excitación respescto el estado fundamental: \n",
    "\n",
    "$$  E(N,\\sigma=2) -  E(N,\\sigma=0) = - \\frac{G \\left(- N^{2} + 2 N \\left(\\Omega + 1\\right) - 4 \\Omega\\right)}{4} =  \\frac{G \\left(- N^{2} + 2 N \\left(\\Omega + 1\\right)\\right)}{4} - \\frac{G \\left(- N^{2} + 2 N \\left(\\Omega + 1\\right) - 4 \\Omega\\right)}{4} $$\n",
    "\n",
    "$$   E(N,\\sigma=2) -  E(N,\\sigma=0)= G \\Omega $$\n"
   ]
  },
  {
   "cell_type": "code",
   "execution_count": null,
   "metadata": {},
   "outputs": [
    {
     "name": "stdout",
     "output_type": "stream",
     "text": [
      "- \\frac{G \\left(- N^{2} + 2 N \\left(\\Omega + 1\\right) - 4 \\Omega\\right)}{4}\n",
      "\\frac{G \\left(- N^{2} + 2 N \\left(\\Omega + 1\\right)\\right)}{4} - \\frac{G \\left(- N^{2} + 2 N \\left(\\Omega + 1\\right) - 4 \\Omega\\right)}{4}\n",
      "G \\Omega\n"
     ]
    }
   ],
   "source": [
    "import sympy as sp\n",
    "# Definimos símbolos\n",
    "sigma, N, Omega, G = sp.symbols('sigma N Omega G')\n",
    "\n",
    "# Definimos la expresión\n",
    "E = -G/4 * (sigma*(sigma) - 2*sigma*(Omega + 1) + 2*N*(Omega + 1) - N**2)\n",
    "\n",
    "# Sustituimos sigma = 2\n",
    "E_sub = E.subs(sigma, 2)\n",
    "\n",
    "# Mostrar resultado\n",
    "latex_output = sp.latex(E_sub)\n",
    "print(latex_output)\n",
    "\n",
    "# Diferencia de E sigma = 2  y  E sigma = 0\n",
    "E_sub = E.subs(sigma, 2)-E.subs(sigma, 0)\n",
    "latex_output = sp.latex(E_sub)\n",
    "print(latex_output)\n",
    "\n",
    "# Simplificamos\n",
    "E_sub = sp.simplify(E_sub)\n",
    "\n",
    "# Mostrar resultado\n",
    "latex_output = sp.latex(E_sub)\n",
    "print(latex_output)\n"
   ]
  },
  {
   "cell_type": "markdown",
   "metadata": {},
   "source": [
    "### Apartado c)"
   ]
  },
  {
   "cell_type": "markdown",
   "metadata": {},
   "source": [
    "Cuando el número de nucleones $N \\ll \\Omega$ (que implica necesariamente $\\sigma \\ll \\Omega$) tenemos que: \n",
    "\n",
    "\n",
    "$$ E(N \\ll \\Omega, \\sigma  \\ll \\sigma) = -\\frac{G}{4} \\left[ \\sigma^2- 2\\sigma(\\Omega + 1) + 2N(\\Omega + 1) - N^2 \\right]  \\approx -\\frac{G}{2} \\Omega  \\left[\\sigma + N \\right]   $$\n",
    "Y por tanto, efectivamente, se cumple rigurosamente la proporcionalidad exigida, ya que en el estado fundamental $\\sigma=0,1$. "
   ]
  },
  {
   "cell_type": "markdown",
   "metadata": {},
   "source": [
    "### Apartado d)"
   ]
  },
  {
   "cell_type": "markdown",
   "metadata": {},
   "source": [
    "Para responder a esta pregunta primero tendremos que explicar un poco que es el formalismo BCS.\n",
    "\n",
    "El formalismo BCS (de sus autores Bardeen Cooper y Schrieffer) fue, en primer lugar, una teoría cuántica que explicaba la superconductividad de algunos materiales. \n",
    "\n",
    "Esta teoría nos dice que entre electrones/nucleones existe una interacción de tipo atractivo entre pares cuando ocupan un estado energéticamente menor que la energía de Fermi. Esta interacción minimizará la energía del sistema y suavizará los bordes de la esfera de Fermi. \n",
    "\n",
    "La interaccion entre electrones en la superconductividad a través de fonones obligan a que la función de ondas asociada a un par de electrones interaccionando sea simétrica para su parte espacial y antisimétrica para su parte espíns (interacciones que hacen que los momentos de los mismos sean $\\mathbf{k}$ y $\\bar{\\mathbf{k}}=-\\mathbf{k}$ ). Es decir, los electrones interaccionan formando pares con espín total 0. A su vez, esta interacciones exigen a la función de onda  $|\\Psi \\rangle$ tener una forma tampoco particularmente definida, debido al enorme número de configuraciones posibles. La aproximación más común es la llamada **función BCS** $|BCS\\rangle$, que consta de dos parámetros variacionales a minimizar bajo la condición de que se mantenga el número de partículas (en promedio, ya que hay una cierta varianza).  Esto es aplicable también a los protones/neutrnoes en un sistema como el núcleo ``In fermion systems like atomic nuclei, the Kramers degeneracy ensures the existence\n",
    "of pairs of degenerate and mutually time-reversal conjugate states'' (Tahinata, pág. 2020). Es por esta misma razón por la cual **se favorece el estado con mayor número de pares**, por lo que efectivamente seniority $\\sigma$ debe ser 0 ($N$ par) o 1 ($N$ impar). \n",
    "\n",
    "Una vez logramos obtener la función de $|BCS\\rangle$ (obteniendo los parámetros $v_k$ y $u_k$ que minimizan la energía), podemos obtener $\\Delta$ que determina la anchura del escalón gradual en la distribución de probabilidad en torno al nivel de Fermi (y por tanto $\\Delta=0$ implica que no hay diferencia entre estados de excitación individual y formación de pares, y por tanto la única diferencia energética entre el estado fundamental y una excitación es precisamente la suma de la energía de la capa en la que se encuentre la partícula). Se puede demostrar que este $\\Delta$ también nos da la **separación mínima** entre las excitaciones individuales y la energía de un par formado. Es decir, si rompemos por ejemplo un par tendríamos que el sistema aumenta $2 \\Delta$ su energía, y un estado impar tendrá $\\Delta$ más energía que un estado par en el estado fundamental. Véase Ricardo A Broglia, Vladimir Zelevinsky - Fifty Years of Nuclear BCS o cualquier libro de Superconductores. \n",
    "\n",
    "A partir de estas deducciones cualitativas (cuantitativamente demostrar que la diferencia entre excitaciones individuales y de pares es de $\\Delta$ podría llevarnos 3 páginas de demostración).\n",
    "\n",
    "- a) El formalismo BCS efectivamente cumple que el estado fundamental de un sistema par no hay nucleones desapareados mientras que en uno impar solo tiene un estado desapareado, ya que romper un par agregaría $2 \\Delta$ al estado, haciendolo energéticamente desfavorable (pag. 29, Ricardo A Broglia, Vladimir Zelevinsky - Fifty Years of Nuclear BCS )\n",
    "\n",
    "\n",
    "- b) Fenomenológicamente, se encuentra que el pairing gap tiene una dependencia general en\n",
    "el número de nucleones, tal que $\\Delta = C / A^{1/3}$ con C = 12 MeV.  ``Calculations\n",
    "using the contact interaction are numerically simpler, but the pairing gap diverges\n",
    "when the dimension of the pairing-active space increases for a fixed strength of\n",
    "the interaction'' (pag. 67 Ricardo A Broglia) por lo que si parece haber una dependencia con el *número posible de estados apareados*.  Por otro lado, el mismo Ricardo Broglia (pag. 78, ec. 27 y 28) nos da una expresión para el pairing gap, con las siguientes condiciones. Un modelo degenerado, cuando todas las energías de partícula individual son iguales,  $ \\epsilon_1 \\equiv \\epsilon $, la solución es analítica y muy similar al caso BCS, con la sutil \n",
    "diferencia debida a la Ecuación (24). La suma sobre todos los estados $ \\Omega $ da:  $$ \\Delta^2(N) = \\frac{G^2}{4} (\\Omega - N)(N + 2), \\quad  \\mu(N) = \\epsilon - \\frac{G}{4} (\\Omega - 2N) $$  tal que  $$ E(N) = \\epsilon N - \\frac{G}{4}(N - \\nu)(\\Omega - N - \\nu + 2) $$  La expresión es válida tanto para sistemas con N par (donde $ \\nu = 0 $) como para el \n",
    "caso impar, $ N \\rightarrow N + 1 $, donde $ \\nu = 1 $. Es decir, $\\Delta \\propto \\sqrt{\\Omega}$ y $E^* \\propto \\Delta \\propto \\sqrt{\\Omega}$, por lo que no parece que el primer estado excitado sea proporcional al número posible de estados aparedados, sino a su raíz cuadrada. \n",
    "\n",
    "\n",
    "- c) Si la energía del estado fundamental es, para la aproximación BCS (pag. 2023, ec. 3, Tahinata): $$ E^{(N)}_{\\text{BCS}} = -\\frac{1}{2} G N \\Omega \\left( 1 - \\frac{N}{2\\Omega} + \\frac{N}{2\\Omega^2} \\right) $$ tenemos que efectivamente, si $N\\ll \\Omega$,  $$ E^{(N)}_{\\text{BCS}} \\approx -\\frac{1}{2} G N \\Omega $$ por lo que efectivamente en el formalismo BCS la energía del estado fundamental es proporcional al número de posibles estados apareadso multiplicado por el número de pares \n",
    "\n"
   ]
  }
 ],
 "metadata": {
  "kernelspec": {
   "display_name": "Python 3",
   "language": "python",
   "name": "python3"
  },
  "language_info": {
   "codemirror_mode": {
    "name": "ipython",
    "version": 3
   },
   "file_extension": ".py",
   "mimetype": "text/x-python",
   "name": "python",
   "nbconvert_exporter": "python",
   "pygments_lexer": "ipython3",
   "version": "3.12.3"
  }
 },
 "nbformat": 4,
 "nbformat_minor": 2
}
